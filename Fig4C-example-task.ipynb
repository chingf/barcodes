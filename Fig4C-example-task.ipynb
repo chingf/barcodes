{
 "cells": [
  {
   "cell_type": "code",
   "execution_count": 1,
   "metadata": {},
   "outputs": [],
   "source": [
    "import numpy as np\n",
    "import matplotlib.pyplot as plt\n",
    "import numpy as np\n",
    "import seaborn as sns\n",
    "import pandas as pd\n",
    "from Model import Model\n",
    "from PlaceInputs import PlaceInputs\n",
    "from utils import *\n",
    "import configs"
   ]
  },
  {
   "cell_type": "markdown",
   "metadata": {},
   "source": [
    "# Parameters and Initialization"
   ]
  },
  {
   "cell_type": "code",
   "execution_count": 16,
   "metadata": {},
   "outputs": [],
   "source": [
    "# Parameters\n",
    "N_inp = 5000\n",
    "N_bar = 5000\n",
    "num_states = 100"
   ]
  },
  {
   "cell_type": "code",
   "execution_count": 37,
   "metadata": {},
   "outputs": [],
   "source": [
    "place_inputs = PlaceInputs(N_inp, num_states).get_inputs()\n",
    "model = Model(\n",
    "    N_inp, N_bar, num_states,\n",
    "    narrow_search_factor=0., wide_search_factor=1.5,\n",
    "    plasticity_bias=-0.38\n",
    "    )"
   ]
  },
  {
   "cell_type": "code",
   "execution_count": 38,
   "metadata": {},
   "outputs": [],
   "source": [
    "cache_states = [20, 35, 70]"
   ]
  },
  {
   "cell_type": "markdown",
   "metadata": {},
   "source": [
    "# New recall plot function"
   ]
  },
  {
   "cell_type": "code",
   "execution_count": 39,
   "metadata": {},
   "outputs": [],
   "source": [
    "def recall_plots(\n",
    "    cache_identification, narrow_recall, wide_recall,\n",
    "    cache_states, recall_downsampling_idxs=None, save_name=None):\n",
    "    \n",
    "    num_states, N_bar = narrow_recall.shape\n",
    "    threshold = 0.5\n",
    "    if recall_downsampling_idxs is not None:\n",
    "        narrow_recall = narrow_recall[:,recall_downsampling_idxs]\n",
    "        wide_recall = wide_recall[:,recall_downsampling_idxs]\n",
    "\n",
    "    # Cache identification plot\n",
    "    fig, ax = plt.subplots(figsize=(2.25,1.5))\n",
    "    readout = cache_identification/cache_identification.max()\n",
    "    ax.plot(readout)\n",
    "    idxs = readout > threshold\n",
    "    y = readout[idxs]\n",
    "    y[y>0] = 1.05\n",
    "    ax.scatter(np.arange(100)[idxs], y, s=1, color='red')\n",
    "    xtick_loc = []; xtick_label = [];\n",
    "    for i, c in enumerate(cache_states):\n",
    "        xtick_loc.append(c)\n",
    "        xtick_label.append(f'C{i+1}')\n",
    "    ax.set_xticks(xtick_loc)\n",
    "    ax.set_xticklabels(xtick_label)\n",
    "    ax.set_yticks([0, 0.50, 1.0])\n",
    "    ax.set_ylabel('Output Norm')\n",
    "    ax.set_xlabel('Current Place')\n",
    "    plt.tight_layout()\n",
    "    if save_name is not None:\n",
    "        plt.savefig(f'figures/fig4c_{save_name}.png', dpi=300, transparent=True)\n",
    "    plt.show()\n",
    "    \n",
    "    # Recall plots\n",
    "    fig, ax = plt.subplots(figsize=(1.5,1.5))\n",
    "    narrow_recall = zero_out_invalid(narrow_recall, threshold)\n",
    "    ax.imshow(narrow_recall.T, aspect=num_states/N_bar)\n",
    "    ytick_loc = []; tick_label = [];\n",
    "    for i, c in enumerate(cache_states):\n",
    "        if recall_downsampling_idxs is not None:\n",
    "            ytick_loc.append((c/num_states)*recall_downsampling_idxs.size)\n",
    "        else:\n",
    "            ytick_loc.append((c/num_states)*N_bar)\n",
    "        tick_label.append(f'C{i+1}')\n",
    "    ax.set_yticks(ytick_loc)\n",
    "    ax.set_yticklabels(tick_label)\n",
    "    ax.set_xticks(cache_states)\n",
    "    ax.set_xticklabels(tick_label)\n",
    "    ax.set_ylabel('Recalled Place')\n",
    "    ax.set_xlabel('Current Place')\n",
    "    plt.tight_layout()\n",
    "    if save_name is not None:\n",
    "        plt.savefig(f'figures/fig4d1_{save_name}.png', dpi=300, transparent=True)\n",
    "    plt.show()\n",
    "    \n",
    "    \n",
    "    # Wide recall plot\n",
    "    fig, ax = plt.subplots(figsize=(1.5,1.5))\n",
    "    wide_recall = zero_out_invalid(wide_recall, threshold)\n",
    "    ax.imshow(wide_recall.T, aspect=num_states/N_bar)\n",
    "    ytick_loc = []; tick_label = [];\n",
    "    for i, c in enumerate(cache_states):\n",
    "        if recall_downsampling_idxs is not None:\n",
    "            ytick_loc.append((c/num_states)*recall_downsampling_idxs.size)\n",
    "        else:\n",
    "            ytick_loc.append((c/num_states)*N_bar)\n",
    "        tick_label.append(f'C{i+1}')\n",
    "    ax.set_yticks(ytick_loc)\n",
    "    ax.set_yticklabels(tick_label)\n",
    "    ax.set_xticks(cache_states)\n",
    "    ax.set_xticklabels(tick_label)\n",
    "    ax.set_ylabel('Recalled Place')\n",
    "    ax.set_xlabel('Current Place')\n",
    "    plt.tight_layout()\n",
    "    plt.tight_layout()\n",
    "    if save_name is not None:\n",
    "        plt.savefig(f'figures/fig4d2_{save_name}.png', dpi=300, transparent=True)\n",
    "    plt.show()"
   ]
  },
  {
   "cell_type": "markdown",
   "metadata": {},
   "source": [
    "# Example Narrow/Broad Recall"
   ]
  },
  {
   "cell_type": "code",
   "execution_count": 40,
   "metadata": {},
   "outputs": [],
   "source": [
    "identification_s = 0.0"
   ]
  },
  {
   "cell_type": "code",
   "execution_count": 41,
   "metadata": {
    "scrolled": false
   },
   "outputs": [
    {
     "name": "stdout",
     "output_type": "stream",
     "text": [
      "Now I just cached at location: 20\n"
     ]
    },
    {
     "data": {
      "image/png": "[encoded data removed]",
      "text/plain": [
       "<Figure size 162x108 with 1 Axes>"
      ]
     },
     "metadata": {
      "needs_background": "light"
     },
     "output_type": "display_data"
    },
    {
     "data": {
      "image/png": "[encoded data removed]",
      "text/plain": [
       "<Figure size 108x108 with 1 Axes>"
      ]
     },
     "metadata": {
      "needs_background": "light"
     },
     "output_type": "display_data"
    },
    {
     "data": {
      "image/png": "[encoded data removed]",
      "text/plain": [
       "<Figure size 108x108 with 1 Axes>"
      ]
     },
     "metadata": {
      "needs_background": "light"
     },
     "output_type": "display_data"
    },
    {
     "name": "stdout",
     "output_type": "stream",
     "text": [
      "Now I just cached at location: 35\n"
     ]
    },
    {
     "data": {
      "image/png": "[encoded data removed]",
      "text/plain": [
       "<Figure size 162x108 with 1 Axes>"
      ]
     },
     "metadata": {
      "needs_background": "light"
     },
     "output_type": "display_data"
    },
    {
     "data": {
      "image/png": "[encoded data removed]",
      "text/plain": [
       "<Figure size 108x108 with 1 Axes>"
      ]
     },
     "metadata": {
      "needs_background": "light"
     },
     "output_type": "display_data"
    },
    {
     "data": {
      "image/png": "[encoded data removed]",
      "text/plain": [
       "<Figure size 108x108 with 1 Axes>"
      ]
     },
     "metadata": {
      "needs_background": "light"
     },
     "output_type": "display_data"
    },
    {
     "name": "stdout",
     "output_type": "stream",
     "text": [
      "Now I just cached at location: 70\n"
     ]
    },
    {
     "data": {
      "image/png": "[encoded data removed]",
      "text/plain": [
       "<Figure size 162x108 with 1 Axes>"
      ]
     },
     "metadata": {
      "needs_background": "light"
     },
     "output_type": "display_data"
    },
    {
     "data": {
      "image/png": "[encoded data removed]",
      "text/plain": [
       "<Figure size 108x108 with 1 Axes>"
      ]
     },
     "metadata": {
      "needs_background": "light"
     },
     "output_type": "display_data"
    },
    {
     "data": {
      "image/png": "[encoded data removed]",
      "text/plain": [
       "<Figure size 108x108 with 1 Axes>"
      ]
     },
     "metadata": {
      "needs_background": "light"
     },
     "output_type": "display_data"
    }
   ],
   "source": [
    "model.reset()\n",
    "\n",
    "cache_identification = []\n",
    "narrow_recall = []\n",
    "wide_recall = []\n",
    "\n",
    "for c_idx, cache_state in enumerate(cache_states):\n",
    "    \n",
    "    print(\"Now I just cached at location:\", cache_state)\n",
    "    preacts, acts, _, acts_over_time = model.run_recurrent(place_inputs, n_zero_input=20)\n",
    "    model.update(place_inputs[cache_state], acts[cache_state], preacts[cache_state])\n",
    "\n",
    "    _, _, outputs, _ = model.run_recall(identification_s, place_inputs)\n",
    "    _cache_identification = outputs[1].squeeze()\n",
    "    cache_identification.append(_cache_identification.copy())\n",
    "    \n",
    "    _, _, outputs, _ = model.run_narrow_recall(place_inputs)\n",
    "    _narrow_recall = outputs[0]\n",
    "    narrow_recall.append(_narrow_recall.copy())\n",
    "    \n",
    "    _, _, outputs, _ = model.run_wide_recall(place_inputs)\n",
    "    _wide_recall = outputs[0]\n",
    "    wide_recall.append(_wide_recall.copy())\n",
    "\n",
    "    recall_plots(\n",
    "        _cache_identification, _narrow_recall, _wide_recall,\n",
    "        cache_states[:c_idx+1], save_name=f'C{c_idx+1}')"
   ]
  },
  {
   "cell_type": "code",
   "execution_count": null,
   "metadata": {},
   "outputs": [],
   "source": []
  },
  {
   "cell_type": "code",
   "execution_count": null,
   "metadata": {},
   "outputs": [],
   "source": []
  }
 ],
 "metadata": {
  "kernelspec": {
   "display_name": "Python 3",
   "language": "python",
   "name": "python3"
  },
  "language_info": {
   "codemirror_mode": {
    "name": "ipython",
    "version": 3
   },
   "file_extension": ".py",
   "mimetype": "text/x-python",
   "name": "python",
   "nbconvert_exporter": "python",
   "pygments_lexer": "ipython3",
   "version": "3.7.3"
  }
 },
 "nbformat": 4,
 "nbformat_minor": 5
}
