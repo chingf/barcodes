{
 "cells": [
  {
   "cell_type": "code",
   "execution_count": 1,
   "metadata": {},
   "outputs": [],
   "source": [
    "import numpy as np\n",
    "import matplotlib.pyplot as plt\n",
    "import numpy as np\n",
    "from scipy.stats import poisson, nbinom\n",
    "import seaborn as sns\n",
    "import pandas as pd\n",
    "\n",
    "from Model import Model\n",
    "from PlaceInputs import PlaceInputs\n",
    "from utils import *\n",
    "import configs"
   ]
  },
  {
   "cell_type": "markdown",
   "metadata": {},
   "source": [
    "# Parameters and Initialization"
   ]
  },
  {
   "cell_type": "code",
   "execution_count": 2,
   "metadata": {},
   "outputs": [],
   "source": [
    "# Parameters\n",
    "N_inp = 5000\n",
    "N_bar = 5000\n",
    "num_states = 100\n",
    "steps = 100"
   ]
  },
  {
   "cell_type": "code",
   "execution_count": 3,
   "metadata": {},
   "outputs": [],
   "source": [
    "place_inputs = PlaceInputs(N_inp, num_states).get_inputs()\n",
    "model = Model(\n",
    "    N_inp, N_bar, num_states, steps=steps\n",
    "    )"
   ]
  },
  {
   "cell_type": "code",
   "execution_count": 4,
   "metadata": {},
   "outputs": [],
   "source": [
    "cache_states = [0, 33, 66]"
   ]
  },
  {
   "cell_type": "markdown",
   "metadata": {},
   "source": [
    "# Run Task (with learning)"
   ]
  },
  {
   "cell_type": "code",
   "execution_count": 5,
   "metadata": {},
   "outputs": [
    {
     "name": "stdout",
     "output_type": "stream",
     "text": [
      "Now I just cached at location: 0\n",
      "Now I just cached at location: 33\n",
      "Now I just cached at location: 66\n"
     ]
    }
   ],
   "source": [
    "model.reset()\n",
    "cache_acts = []\n",
    "cache_acts_over_time = []\n",
    "retrieval_acts_over_time = []\n",
    "\n",
    "for cache_state in cache_states:\n",
    "    print(\"Now I just cached at location:\", cache_state)\n",
    "    preacts, acts, _, acts_over_time = model.run_recurrent(place_inputs, n_zero_input=20)\n",
    "    model.update(place_inputs[cache_state], acts[cache_state], preacts[cache_state])\n",
    "    cache_acts.append(acts.copy())\n",
    "    cache_acts_over_time.append(acts_over_time.copy())"
   ]
  },
  {
   "cell_type": "code",
   "execution_count": 6,
   "metadata": {},
   "outputs": [],
   "source": [
    "_, place_acts, _, _ = model.run_nonrecurrent(place_inputs)\n",
    "place_mean = np.mean(place_acts, axis=0).flatten()\n",
    "place_std = np.std(place_acts, axis=0).flatten()"
   ]
  },
  {
   "cell_type": "markdown",
   "metadata": {},
   "source": [
    "# Define cache activity as a mean over some time window"
   ]
  },
  {
   "cell_type": "code",
   "execution_count": 7,
   "metadata": {},
   "outputs": [],
   "source": [
    "start_t = steps-25 # Start of time window"
   ]
  },
  {
   "cell_type": "code",
   "execution_count": 8,
   "metadata": {},
   "outputs": [],
   "source": [
    "avg_cache_acts = []\n",
    "for i in range(len(cache_states)):\n",
    "    location = cache_states[i]\n",
    "    vec = cache_acts_over_time[i][start_t:steps, location, :].mean(axis=0)\n",
    "    avg_cache_acts.append(vec)\n",
    "avg_cache_acts = np.array(avg_cache_acts)"
   ]
  },
  {
   "cell_type": "code",
   "execution_count": 9,
   "metadata": {},
   "outputs": [],
   "source": [
    "cache_mean = avg_cache_acts.mean(axis=0)"
   ]
  },
  {
   "cell_type": "markdown",
   "metadata": {},
   "source": [
    "# Define seed vector"
   ]
  },
  {
   "cell_type": "code",
   "execution_count": 10,
   "metadata": {},
   "outputs": [],
   "source": [
    "# Defined as J_sx\n",
    "seed_vec = model.J_sx.copy()\n",
    "seed_vec /= np.linalg.norm(seed_vec)"
   ]
  },
  {
   "cell_type": "code",
   "execution_count": null,
   "metadata": {},
   "outputs": [],
   "source": [
    "# Defined as occupied/unoccupied difference\n",
    "occupied = []\n",
    "unoccupied = []\n",
    "_, _check_acts, _, _check_acts_over_time = model.run_recall(\n",
    "    0.2, place_inputs)\n",
    "for c in range(num_states):\n",
    "    if c in cache_states: # occupied\n",
    "        occupied.append(_check_acts_over_time[:steps,c].mean(axis=0))\n",
    "    elif min([distance(c, _c, num_states) for _c in cache_states]) < 5:\n",
    "        continue\n",
    "    else: # unoccupied\n",
    "        unoccupied.append(_check_acts_over_time[start_t:steps,c].mean(axis=0))\n",
    "occupied = np.array(occupied).mean(0)\n",
    "unoccupied = np.array(unoccupied).mean(0)\n",
    "seed_vec = occupied - unoccupied\n",
    "seed_vec /= np.linalg.norm(seed_vec)\n",
    "\n",
    "# Actual retrieval time course\n",
    "_, _check_acts, _, _check_acts_over_time = model.run_recall(\n",
    "    0.2, place_inputs)"
   ]
  },
  {
   "cell_type": "markdown",
   "metadata": {},
   "source": [
    "# Fig 7: Projections in time"
   ]
  },
  {
   "cell_type": "code",
   "execution_count": 12,
   "metadata": {},
   "outputs": [],
   "source": [
    "barcodes = []\n",
    "for i in range(len(cache_states)):\n",
    "    location = cache_states[i]\n",
    "    \n",
    "    # Cache activations\n",
    "    _cache_act = avg_cache_acts[i].copy()\n",
    "    _cache_act -= cache_mean\n",
    "    \n",
    "    # Place activations\n",
    "    _place_act = place_acts[location].copy()\n",
    "    _place_act -= place_mean\n",
    "    _place_act /= np.linalg.norm(_place_act)\n",
    "    \n",
    "    # Define barcode\n",
    "    projection = np.dot(_cache_act, _place_act) * _place_act\n",
    "    barcode = _cache_act - projection\n",
    "    barcodes.append(barcode)\n",
    "barcodes = np.array(barcodes)"
   ]
  },
  {
   "cell_type": "code",
   "execution_count": 13,
   "metadata": {},
   "outputs": [],
   "source": [
    "barcodes /= np.linalg.norm(barcodes, axis=1)[:,None]"
   ]
  },
  {
   "cell_type": "code",
   "execution_count": 19,
   "metadata": {},
   "outputs": [],
   "source": [
    "locations = []\n",
    "place_proj_in_time = []\n",
    "barcode_proj_in_time = []\n",
    "seed_proj_in_time = []\n",
    "\n",
    "for i in range(len(cache_states)):\n",
    "    location = cache_states[i]\n",
    "    _cache_act_over_time = cache_acts_over_time[i]\n",
    "    \n",
    "    # Cache activations\n",
    "    _cache_act = avg_cache_acts[i].copy()\n",
    "    _cache_act -= cache_mean\n",
    "    \n",
    "    # Place activations\n",
    "    _place_act = place_acts[location].copy()\n",
    "    _place_act -= place_mean\n",
    "    _place_act /= np.linalg.norm(_place_act)\n",
    "    \n",
    "    # Over time\n",
    "    _place_proj_in_time = []\n",
    "    _barcode_proj_in_time = []\n",
    "    _seed_proj_in_time = []\n",
    "    for t in range(_cache_act_over_time.shape[0]):\n",
    "        _c = _cache_act_over_time[t][location] # (n_units,)\n",
    "        _place_proj_in_time.append(np.dot(_c, _place_act))\n",
    "        _barcode_proj_in_time.append(np.dot(_c, barcodes[i]))\n",
    "        _seed_proj_in_time.append(np.dot(_c, seed_vec))\n",
    "    place_proj_in_time.append(_place_proj_in_time)\n",
    "    barcode_proj_in_time.append(_barcode_proj_in_time)\n",
    "    seed_proj_in_time.append(_seed_proj_in_time)"
   ]
  },
  {
   "cell_type": "code",
   "execution_count": 20,
   "metadata": {},
   "outputs": [
    {
     "data": {
      "image/png": "[encoded data removed]",
      "text/plain": [
       "<Figure size 288x216 with 1 Axes>"
      ]
     },
     "metadata": {
      "needs_background": "light"
     },
     "output_type": "display_data"
    }
   ],
   "source": [
    "# Chettih et al Figure 7\n",
    "plt.figure(figsize=(4,3))\n",
    "for sp in seed_proj_in_time:\n",
    "    plt.plot(sp, alpha=0.8, color='green')\n",
    "for pp in place_proj_in_time:\n",
    "    plt.plot(pp, alpha=0.8, color='gray')\n",
    "for bp in barcode_proj_in_time:\n",
    "    plt.plot(bp, alpha=0.8, color='orange')\n",
    "plt.xlabel('Time')\n",
    "plt.ylabel('Projection Norm')\n",
    "plt.title('Caching')\n",
    "plt.tight_layout()\n",
    "plt.savefig('temp_spacing.png', dpi=300)\n",
    "plt.show()"
   ]
  },
  {
   "cell_type": "markdown",
   "metadata": {},
   "source": [
    "# Retrieval Projections"
   ]
  },
  {
   "cell_type": "code",
   "execution_count": 16,
   "metadata": {},
   "outputs": [],
   "source": [
    "place_proj_in_time = []\n",
    "barcode_proj_in_time = []\n",
    "seed_proj_in_time = []\n",
    "for i in range(len(cache_states)):\n",
    "    location = cache_states[i]\n",
    "    \n",
    "    # Place activations\n",
    "    _place_act = place_acts[location].copy()\n",
    "    _place_act -= place_mean\n",
    "    _place_act /= np.linalg.norm(_place_act)\n",
    "    \n",
    "    _ret_acts_over_time = _check_acts_over_time[:,location,:]\n",
    "    \n",
    "    # Over time\n",
    "    _place_proj_in_time = []\n",
    "    _barcode_proj_in_time = []\n",
    "    _seed_proj_in_time = []\n",
    "    for t in range(_check_acts_over_time.shape[0]):\n",
    "        _c = _ret_acts_over_time[t] # (n_units,)\n",
    "        _place_proj_in_time.append(np.dot(_c, _place_act))\n",
    "        _barcode_proj_in_time.append(np.dot(_c, barcodes[i]))\n",
    "        _seed_proj_in_time.append(np.dot(_c, seed_vec))\n",
    "    place_proj_in_time.append(_place_proj_in_time)\n",
    "    barcode_proj_in_time.append(_barcode_proj_in_time)\n",
    "    seed_proj_in_time.append(_seed_proj_in_time)"
   ]
  },
  {
   "cell_type": "code",
   "execution_count": 17,
   "metadata": {},
   "outputs": [
    {
     "data": {
      "image/png": "[encoded data removed]",
      "text/plain": [
       "<Figure size 216x144 with 1 Axes>"
      ]
     },
     "metadata": {
      "needs_background": "light"
     },
     "output_type": "display_data"
    }
   ],
   "source": [
    "# Chettih et al Figure 7\n",
    "plt.figure(figsize=(3,2))\n",
    "for sp in seed_proj_in_time:\n",
    "    plt.plot(sp, alpha=0.5, color='green')\n",
    "for pp in place_proj_in_time:\n",
    "    plt.plot(pp, alpha=0.5, color='gray')\n",
    "for bp in barcode_proj_in_time:\n",
    "    plt.plot(bp, alpha=0.5, color='orange')\n",
    "plt.xlabel('Time')\n",
    "plt.ylabel('Projection Norm')\n",
    "plt.title('Retrieval')\n",
    "plt.show()"
   ]
  },
  {
   "cell_type": "code",
   "execution_count": 18,
   "metadata": {},
   "outputs": [
    {
     "data": {
      "image/png": "[encoded data removed]",
      "text/plain": [
       "<Figure size 216x144 with 1 Axes>"
      ]
     },
     "metadata": {
      "needs_background": "light"
     },
     "output_type": "display_data"
    }
   ],
   "source": [
    "# Chettih et al Figure 7\n",
    "plt.figure(figsize=(3,2))\n",
    "plt.plot(np.array(seed_proj_in_time).mean(axis=0), color='green')\n",
    "plt.plot(np.array(place_proj_in_time).mean(axis=0), color='gray')\n",
    "plt.plot(np.array(barcode_proj_in_time).mean(axis=0), color='orange')\n",
    "plt.xlim(0,40)\n",
    "plt.xlabel('Time')\n",
    "plt.ylabel('Projection Norm')\n",
    "plt.title('Retrieval')\n",
    "plt.show()"
   ]
  },
  {
   "cell_type": "code",
   "execution_count": null,
   "metadata": {},
   "outputs": [],
   "source": []
  }
 ],
 "metadata": {
  "kernelspec": {
   "display_name": "Python 3",
   "language": "python",
   "name": "python3"
  },
  "language_info": {
   "codemirror_mode": {
    "name": "ipython",
    "version": 3
   },
   "file_extension": ".py",
   "mimetype": "text/x-python",
   "name": "python",
   "nbconvert_exporter": "python",
   "pygments_lexer": "ipython3",
   "version": "3.7.3"
  }
 },
 "nbformat": 4,
 "nbformat_minor": 5
}
