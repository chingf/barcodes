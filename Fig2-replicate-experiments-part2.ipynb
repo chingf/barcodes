{
 "cells": [
  {
   "cell_type": "code",
   "execution_count": 48,
   "metadata": {},
   "outputs": [],
   "source": [
    "import numpy as np\n",
    "import matplotlib.pyplot as plt\n",
    "import numpy as np\n",
    "from scipy.stats import poisson, nbinom\n",
    "import seaborn as sns\n",
    "import pandas as pd\n",
    "\n",
    "#from Model_xx import Model\n",
    "from Model_xx import Model\n",
    "from PlaceInputs import PlaceInputs\n",
    "from utils import *\n",
    "import configs"
   ]
  },
  {
   "cell_type": "markdown",
   "metadata": {},
   "source": [
    "# Parameters and Initialization"
   ]
  },
  {
   "cell_type": "code",
   "execution_count": 70,
   "metadata": {},
   "outputs": [],
   "source": [
    "# Parameters\n",
    "N_inp = 5000\n",
    "N_bar = 5000\n",
    "num_states = 100\n",
    "steps = 100"
   ]
  },
  {
   "cell_type": "code",
   "execution_count": 71,
   "metadata": {},
   "outputs": [],
   "source": [
    "place_inputs = PlaceInputs(N_inp, num_states).get_inputs()\n",
    "model = Model(N_inp, N_bar, num_states, steps=steps)"
   ]
  },
  {
   "cell_type": "code",
   "execution_count": 72,
   "metadata": {},
   "outputs": [],
   "source": [
    "cache_states = [0, 10, 20, 30, 40, 50, 60, 70, 80]"
   ]
  },
  {
   "cell_type": "markdown",
   "metadata": {},
   "source": [
    "# Run Task (with learning)"
   ]
  },
  {
   "cell_type": "code",
   "execution_count": 73,
   "metadata": {},
   "outputs": [
    {
     "name": "stdout",
     "output_type": "stream",
     "text": [
      "Now I just cached at location: 0\n",
      "Now I just cached at location: 10\n",
      "Now I just cached at location: 20\n",
      "Now I just cached at location: 30\n",
      "Now I just cached at location: 40\n",
      "Now I just cached at location: 50\n",
      "Now I just cached at location: 60\n",
      "Now I just cached at location: 70\n",
      "Now I just cached at location: 80\n"
     ]
    }
   ],
   "source": [
    "model.reset()\n",
    "cache_acts = []\n",
    "cache_acts_over_time = []\n",
    "\n",
    "for cache_state in cache_states:\n",
    "    print(\"Now I just cached at location:\", cache_state)\n",
    "    preacts, acts, _, acts_over_time = model.run_recurrent(place_inputs, n_zero_input=20)\n",
    "    model.update(place_inputs[cache_state], acts[cache_state], preacts[cache_state])\n",
    "    cache_acts.append(acts.copy())\n",
    "    cache_acts_over_time.append(acts_over_time.copy())"
   ]
  },
  {
   "cell_type": "code",
   "execution_count": 74,
   "metadata": {},
   "outputs": [],
   "source": [
    "_, _, output, retrieval_acts_over_time = model.run_recall(0., place_inputs)"
   ]
  },
  {
   "cell_type": "code",
   "execution_count": 75,
   "metadata": {},
   "outputs": [],
   "source": [
    "_, place_acts, _, _ = model.run_nonrecurrent(place_inputs)\n",
    "place_mean = np.mean(place_acts, axis=0).flatten()\n",
    "place_std = np.std(place_acts, axis=0).flatten()"
   ]
  },
  {
   "cell_type": "code",
   "execution_count": 76,
   "metadata": {},
   "outputs": [
    {
     "data": {
      "image/png": "[encoded data removed]",
      "text/plain": [
       "<Figure size 432x288 with 1 Axes>"
      ]
     },
     "metadata": {
      "needs_background": "light"
     },
     "output_type": "display_data"
    }
   ],
   "source": [
    "plt.figure()\n",
    "plt.imshow(output, aspect='auto')\n",
    "plt.show()"
   ]
  },
  {
   "cell_type": "markdown",
   "metadata": {},
   "source": [
    "# Define cache activity as a mean over some time window"
   ]
  },
  {
   "cell_type": "code",
   "execution_count": 77,
   "metadata": {},
   "outputs": [],
   "source": [
    "avg_cache_acts = []\n",
    "for i in range(len(cache_states)):\n",
    "    location = cache_states[i]\n",
    "    vec = cache_acts_over_time[i][steps+model.seed_steps-1, location, :]#.mean(axis=0)\n",
    "    avg_cache_acts.append(vec)\n",
    "avg_cache_acts = np.array(avg_cache_acts)"
   ]
  },
  {
   "cell_type": "code",
   "execution_count": 78,
   "metadata": {},
   "outputs": [],
   "source": [
    "cache_mean = avg_cache_acts.mean(axis=0)"
   ]
  },
  {
   "cell_type": "code",
   "execution_count": 79,
   "metadata": {},
   "outputs": [],
   "source": [
    "avg_retrieval_acts = []\n",
    "for i in range(len(cache_states)):\n",
    "    location = cache_states[i]\n",
    "    vec = retrieval_acts_over_time[steps-1, location, :]#.mean(axis=0)\n",
    "    avg_retrieval_acts.append(vec)\n",
    "avg_retrieval_acts = np.array(avg_retrieval_acts)"
   ]
  },
  {
   "cell_type": "code",
   "execution_count": 80,
   "metadata": {},
   "outputs": [],
   "source": [
    "def nb(mu, std_scaling=1.0, mu_scaling=0.75, shift=0.0):\n",
    "    \"\"\" mu is a vector of firing rates. std_scaling is a scalar. \"\"\"\n",
    "\n",
    "\n",
    "    mu = mu*mu_scaling + 1E-8 + shift\n",
    "    std = std_scaling * np.sqrt(mu)\n",
    "    std += 1E-8\n",
    "    n = (mu**2)/(std**2 - mu)\n",
    "    p = mu/(std**2)\n",
    "    nb_mu = nbinom.rvs(n, p)\n",
    "    return nb_mu.astype(float)\n",
    "\n",
    "\n",
    "def nb_corr(a, b):\n",
    "    nb_a = nb(a)\n",
    "    nb_b = nb(b)\n",
    "    return np.corrcoef(nb_a, nb_b)[0, 1]"
   ]
  },
  {
   "cell_type": "markdown",
   "metadata": {},
   "source": [
    "# Fig 3ab, Fig 4: cache v. visit correlation"
   ]
  },
  {
   "cell_type": "code",
   "execution_count": 92,
   "metadata": {},
   "outputs": [],
   "source": [
    "cache_cache_corr = {'Distance': [], 'Correlation': []}\n",
    "cache_visit_corr = {'Distance': [], 'Correlation': []}\n",
    "visit_visit_corr = {'Distance': [], 'Correlation': []}\n",
    "cache_retrieval_corr = {'Distance': [], 'Correlation': []}\n",
    "std_scaling = 1\n",
    "\n",
    "for i in range(len(cache_states)):\n",
    "    for j in range(i, len(cache_states)):\n",
    "        _distance = distance(cache_states[i], cache_states[j], num_states)\n",
    "        \n",
    "        cache_act_i = avg_cache_acts[i].copy()\n",
    "        cache_act_j = avg_cache_acts[j].copy()\n",
    "        retrieval_act_j = avg_retrieval_acts[j].copy()\n",
    "        place_act_i = place_acts[cache_states[i]].copy()\n",
    "        place_act_j = place_acts[cache_states[j]].copy()\n",
    "        \n",
    "        for _ in range(3): # More samples\n",
    "            c_c_corr = nb_corr(cache_act_i, cache_act_j)\n",
    "            c_v_corr = nb_corr(cache_act_i, place_act_j)\n",
    "            v_v_corr = nb_corr(place_act_i, place_act_j)\n",
    "            c_r_corr = nb_corr(cache_act_i, retrieval_act_j)\n",
    "\n",
    "            cache_cache_corr['Distance'].append(_distance)\n",
    "            cache_cache_corr['Correlation'].append(c_c_corr)\n",
    "\n",
    "            cache_visit_corr['Distance'].append(_distance)\n",
    "            cache_visit_corr['Correlation'].append(c_v_corr)\n",
    "\n",
    "            visit_visit_corr['Distance'].append(_distance)\n",
    "            visit_visit_corr['Correlation'].append(v_v_corr)\n",
    "            \n",
    "            cache_retrieval_corr['Distance'].append(_distance)\n",
    "            cache_retrieval_corr['Correlation'].append(c_r_corr)\n"
   ]
  },
  {
   "cell_type": "code",
   "execution_count": 93,
   "metadata": {},
   "outputs": [],
   "source": [
    "# cc"
   ]
  },
  {
   "cell_type": "code",
   "execution_count": 98,
   "metadata": {},
   "outputs": [
    {
     "name": "stdout",
     "output_type": "stream",
     "text": [
      "     Distance  Correlation\n",
      "0           0     0.503134\n",
      "1           0     0.495562\n",
      "2           0     0.589347\n",
      "27          0     0.538947\n",
      "28          0     0.507756\n",
      "29          0     0.515818\n",
      "51          0     0.447043\n",
      "52          0     0.469956\n",
      "53          0     0.549596\n",
      "72          0     0.535892\n",
      "73          0     0.522427\n",
      "74          0     0.468472\n",
      "90          0     0.497693\n",
      "91          0     0.544365\n",
      "92          0     0.492382\n",
      "105         0     0.569329\n",
      "106         0     0.537968\n",
      "107         0     0.491392\n",
      "117         0     0.509128\n",
      "118         0     0.523526\n",
      "119         0     0.421440\n",
      "126         0     0.559290\n",
      "127         0     0.491790\n",
      "128         0     0.585579\n",
      "132         0     0.528928\n",
      "133         0     0.541885\n",
      "134         0     0.529905\n"
     ]
    }
   ],
   "source": [
    "ccc = pd.DataFrame(cache_cache_corr)\n",
    "ccc = ccc[ccc['Distance']==0]\n",
    "print(ccc)"
   ]
  },
  {
   "cell_type": "code",
   "execution_count": 99,
   "metadata": {},
   "outputs": [
    {
     "data": {
      "text/plain": [
       "Distance       0.000000\n",
       "Correlation    0.517354\n",
       "dtype: float64"
      ]
     },
     "execution_count": 99,
     "metadata": {},
     "output_type": "execute_result"
    }
   ],
   "source": [
    "np.mean(ccc)"
   ]
  },
  {
   "cell_type": "code",
   "execution_count": 96,
   "metadata": {},
   "outputs": [],
   "source": [
    "# cr"
   ]
  },
  {
   "cell_type": "code",
   "execution_count": 100,
   "metadata": {},
   "outputs": [
    {
     "name": "stdout",
     "output_type": "stream",
     "text": [
      "     Distance  Correlation\n",
      "0           0     0.599238\n",
      "1           0     0.499622\n",
      "2           0     0.547805\n",
      "27          0     0.514866\n",
      "28          0     0.581644\n",
      "29          0     0.584970\n",
      "51          0     0.596257\n",
      "52          0     0.594356\n",
      "53          0     0.530720\n",
      "72          0     0.575018\n",
      "73          0     0.588031\n",
      "74          0     0.596240\n",
      "90          0     0.549932\n",
      "91          0     0.490440\n",
      "92          0     0.560763\n",
      "105         0     0.601688\n",
      "106         0     0.602733\n",
      "107         0     0.598317\n",
      "117         0     0.483322\n",
      "118         0     0.566747\n",
      "119         0     0.572806\n",
      "126         0     0.626368\n",
      "127         0     0.588379\n",
      "128         0     0.535053\n",
      "132         0     0.619809\n",
      "133         0     0.628610\n",
      "134         0     0.567731\n"
     ]
    }
   ],
   "source": [
    "crc = pd.DataFrame(cache_retrieval_corr)\n",
    "crc = crc[crc['Distance']==0]\n",
    "print(crc)"
   ]
  },
  {
   "cell_type": "code",
   "execution_count": 102,
   "metadata": {},
   "outputs": [
    {
     "data": {
      "text/plain": [
       "Distance       0.000000\n",
       "Correlation    0.570424\n",
       "dtype: float64"
      ]
     },
     "execution_count": 102,
     "metadata": {},
     "output_type": "execute_result"
    }
   ],
   "source": [
    "np.mean(crc)"
   ]
  },
  {
   "cell_type": "code",
   "execution_count": 103,
   "metadata": {},
   "outputs": [],
   "source": [
    "# vv"
   ]
  },
  {
   "cell_type": "code",
   "execution_count": 104,
   "metadata": {},
   "outputs": [],
   "source": [
    "vvc = pd.DataFrame(visit_visit_corr)\n",
    "vvc = vvc[vvc['Distance']==0]"
   ]
  },
  {
   "cell_type": "code",
   "execution_count": 105,
   "metadata": {},
   "outputs": [
    {
     "data": {
      "text/plain": [
       "Distance       0.000000\n",
       "Correlation    0.220102\n",
       "dtype: float64"
      ]
     },
     "execution_count": 105,
     "metadata": {},
     "output_type": "execute_result"
    }
   ],
   "source": [
    "np.mean(vvc)"
   ]
  },
  {
   "cell_type": "markdown",
   "metadata": {},
   "source": [
    "# Plot"
   ]
  },
  {
   "cell_type": "code",
   "execution_count": 114,
   "metadata": {},
   "outputs": [
    {
     "data": {
      "image/png": "[encoded data removed]",
      "text/plain": [
       "<Figure size 288x216 with 1 Axes>"
      ]
     },
     "metadata": {
      "needs_background": "light"
     },
     "output_type": "display_data"
    }
   ],
   "source": [
    "plt.figure(figsize=(4,3))\n",
    "sns.lineplot(x='Distance', y='Correlation', data=pd.DataFrame(cache_cache_corr), color='C0')\n",
    "sns.lineplot(x='Distance', y='Correlation', data=pd.DataFrame(visit_visit_corr), color='C2')\n",
    "sns.lineplot(x='Distance', y='Correlation', data=pd.DataFrame(cache_retrieval_corr), color='purple')\n",
    "plt.tight_layout()\n",
    "plt.savefig('c_r_corr.png')\n",
    "plt.show()"
   ]
  },
  {
   "cell_type": "code",
   "execution_count": null,
   "metadata": {},
   "outputs": [],
   "source": []
  }
 ],
 "metadata": {
  "kernelspec": {
   "display_name": "Python 3",
   "language": "python",
   "name": "python3"
  },
  "language_info": {
   "codemirror_mode": {
    "name": "ipython",
    "version": 3
   },
   "file_extension": ".py",
   "mimetype": "text/x-python",
   "name": "python",
   "nbconvert_exporter": "python",
   "pygments_lexer": "ipython3",
   "version": "3.7.3"
  }
 },
 "nbformat": 4,
 "nbformat_minor": 5
}
