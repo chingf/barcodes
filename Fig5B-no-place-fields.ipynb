{
 "cells": [
  {
   "cell_type": "code",
   "execution_count": 1,
   "metadata": {},
   "outputs": [],
   "source": [
    "import numpy as np\n",
    "import matplotlib.pyplot as plt\n",
    "import numpy as np\n",
    "import seaborn as sns\n",
    "import pandas as pd\n",
    "\n",
    "from Model import Model\n",
    "from PlaceInputs import PlaceInputs\n",
    "from utils import *\n",
    "import configs"
   ]
  },
  {
   "cell_type": "code",
   "execution_count": 2,
   "metadata": {},
   "outputs": [],
   "source": [
    "from utils_plotting import recall_plots"
   ]
  },
  {
   "cell_type": "markdown",
   "metadata": {},
   "source": [
    "# Parameters and Initialization"
   ]
  },
  {
   "cell_type": "code",
   "execution_count": 3,
   "metadata": {},
   "outputs": [],
   "source": [
    "# Parameters\n",
    "N_inp = 5000\n",
    "N_bar = 5000\n",
    "num_states = 100"
   ]
  },
  {
   "cell_type": "code",
   "execution_count": 4,
   "metadata": {},
   "outputs": [],
   "source": [
    "cache_states = [20, 35, 70]"
   ]
  },
  {
   "cell_type": "code",
   "execution_count": 5,
   "metadata": {},
   "outputs": [],
   "source": [
    "place_inputs = PlaceInputs(\n",
    "    N_inp, num_states, decay_constant=0.0001).get_inputs()\n",
    "model = Model(\n",
    "    N_inp, N_bar, num_states,\n",
    "    wide_search_factor=10\n",
    "    )"
   ]
  },
  {
   "cell_type": "markdown",
   "metadata": {},
   "source": [
    "# Example Narrow/Broad Recall"
   ]
  },
  {
   "cell_type": "code",
   "execution_count": 7,
   "metadata": {},
   "outputs": [],
   "source": [
    "downsampling_idxs = list(np.linspace(0, N_inp, num=20, endpoint=False).astype(int))\n",
    "for c in cache_states:\n",
    "    idxs = list(np.argwhere(place_inputs[c]>0).flatten())\n",
    "    downsampling_idxs.extend(idxs)\n",
    "downsampling_idxs = np.array(downsampling_idxs)\n",
    "downsampling_idxs = np.sort(np.unique(downsampling_idxs))\n",
    "N_plotted = downsampling_idxs.size"
   ]
  },
  {
   "cell_type": "code",
   "execution_count": null,
   "metadata": {},
   "outputs": [
    {
     "name": "stdout",
     "output_type": "stream",
     "text": [
      "Now I just cached at location: 20\n",
      "(100,)\n"
     ]
    },
    {
     "data": {
      "image/png": "[encoded data removed]",
      "text/plain": [
       "<Figure size 108x108 with 1 Axes>"
      ]
     },
     "metadata": {
      "needs_background": "light"
     },
     "output_type": "display_data"
    },
    {
     "data": {
      "image/png": "[encoded data removed]",
      "text/plain": [
       "<Figure size 108x108 with 1 Axes>"
      ]
     },
     "metadata": {
      "needs_background": "light"
     },
     "output_type": "display_data"
    },
    {
     "data": {
      "image/png": "[encoded data removed]",
      "text/plain": [
       "<Figure size 108x108 with 1 Axes>"
      ]
     },
     "metadata": {
      "needs_background": "light"
     },
     "output_type": "display_data"
    },
    {
     "name": "stdout",
     "output_type": "stream",
     "text": [
      "Now I just cached at location: 35\n",
      "(100,)\n"
     ]
    }
   ],
   "source": [
    "model.reset()\n",
    "\n",
    "cache_identification = []\n",
    "narrow_recall = []\n",
    "wide_recall = []\n",
    "identification_s = 0.0\n",
    "\n",
    "for c_idx, cache_state in enumerate(cache_states):\n",
    "    \n",
    "    print(\"Now I just cached at location:\", cache_state)\n",
    "    preacts, acts, _, acts_over_time = model.run_recurrent(place_inputs, n_zero_input=20)\n",
    "    model.update(place_inputs[cache_state], acts[cache_state], preacts[cache_state])\n",
    "\n",
    "    _, _, outputs, _ = model.run_recall(identification_s, place_inputs)\n",
    "    _cache_identification = outputs[1].squeeze()\n",
    "    print(_cache_identification.shape)\n",
    "    cache_identification.append(_cache_identification.copy())\n",
    "    \n",
    "    _, _, outputs, _ = model.run_narrow_recall(place_inputs)\n",
    "    _narrow_recall = relu(outputs[0])\n",
    "    narrow_recall.append(_narrow_recall.copy())\n",
    "    \n",
    "    _, _, outputs, _ = model.run_wide_recall(place_inputs)\n",
    "    _wide_recall = relu(outputs[0])\n",
    "    wide_recall.append(_wide_recall.copy())\n",
    "\n",
    "    recall_plots(\n",
    "        _cache_identification, _narrow_recall, _wide_recall,\n",
    "        cache_states[:c_idx+1], fignum=\"5_NoPlace\", save_name=f'C{c_idx+1}',\n",
    "        recall_downsampling_idxs=downsampling_idxs,\n",
    "        ci_plot_width=1.5\n",
    "        )"
   ]
  },
  {
   "cell_type": "code",
   "execution_count": null,
   "metadata": {},
   "outputs": [],
   "source": []
  }
 ],
 "metadata": {
  "kernelspec": {
   "display_name": "Python 3",
   "language": "python",
   "name": "python3"
  },
  "language_info": {
   "codemirror_mode": {
    "name": "ipython",
    "version": 3
   },
   "file_extension": ".py",
   "mimetype": "text/x-python",
   "name": "python",
   "nbconvert_exporter": "python",
   "pygments_lexer": "ipython3",
   "version": "3.7.3"
  }
 },
 "nbformat": 4,
 "nbformat_minor": 5
}
