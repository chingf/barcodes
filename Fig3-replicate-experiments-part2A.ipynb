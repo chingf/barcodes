{
 "cells": [
  {
   "cell_type": "code",
   "execution_count": 1,
   "metadata": {},
   "outputs": [],
   "source": [
    "import numpy as np\n",
    "import matplotlib.pyplot as plt\n",
    "import numpy as np\n",
    "from scipy.stats import poisson, nbinom\n",
    "import seaborn as sns\n",
    "import pandas as pd\n",
    "\n",
    "from Model import Model\n",
    "from PlaceInputs import PlaceInputs\n",
    "from utils import *\n",
    "import configs"
   ]
  },
  {
   "cell_type": "markdown",
   "metadata": {},
   "source": [
    "# Parameters and Initialization"
   ]
  },
  {
   "cell_type": "code",
   "execution_count": 73,
   "metadata": {},
   "outputs": [],
   "source": [
    "# Parameters\n",
    "N_inp = 5000\n",
    "N_bar = 5000\n",
    "num_states = 100\n",
    "steps = 100"
   ]
  },
  {
   "cell_type": "code",
   "execution_count": 98,
   "metadata": {},
   "outputs": [],
   "source": [
    "place_inputs = PlaceInputs(N_inp, num_states).get_inputs()\n",
    "model = Model(N_inp, N_bar, num_states, steps=steps, weight_var=5.0)\n",
    "std_scaling=1.\n",
    "mu_scaling=0.2"
   ]
  },
  {
   "cell_type": "code",
   "execution_count": 99,
   "metadata": {},
   "outputs": [],
   "source": [
    "cache_states = [0, 10, 20, 30, 40, 50, 60, 70, 80]"
   ]
  },
  {
   "cell_type": "markdown",
   "metadata": {},
   "source": [
    "# Run Task (with learning)"
   ]
  },
  {
   "cell_type": "code",
   "execution_count": 100,
   "metadata": {},
   "outputs": [
    {
     "name": "stdout",
     "output_type": "stream",
     "text": [
      "Now I just cached at location: 0\n",
      "Now I just cached at location: 10\n",
      "Now I just cached at location: 20\n",
      "Now I just cached at location: 30\n",
      "Now I just cached at location: 40\n",
      "Now I just cached at location: 50\n",
      "Now I just cached at location: 60\n",
      "Now I just cached at location: 70\n",
      "Now I just cached at location: 80\n"
     ]
    }
   ],
   "source": [
    "model.reset()\n",
    "cache_acts = []\n",
    "cache_acts_over_time = []\n",
    "\n",
    "for cache_state in cache_states:\n",
    "    print(\"Now I just cached at location:\", cache_state)\n",
    "    preacts, acts, _, acts_over_time = model.run_recurrent(place_inputs, n_zero_input=20)\n",
    "    model.update(place_inputs[cache_state], acts[cache_state], preacts[cache_state])\n",
    "    cache_acts.append(acts.copy())\n",
    "    cache_acts_over_time.append(acts_over_time.copy())"
   ]
  },
  {
   "cell_type": "code",
   "execution_count": 101,
   "metadata": {},
   "outputs": [],
   "source": [
    "_, _, output, retrieval_acts_over_time = model.run_recall(0., place_inputs)"
   ]
  },
  {
   "cell_type": "code",
   "execution_count": 102,
   "metadata": {},
   "outputs": [],
   "source": [
    "_, place_acts, _, _ = model.run_nonrecurrent(place_inputs)\n",
    "place_mean = np.mean(place_acts, axis=0).flatten()\n",
    "place_std = np.std(place_acts, axis=0).flatten()"
   ]
  },
  {
   "cell_type": "code",
   "execution_count": 103,
   "metadata": {},
   "outputs": [
    {
     "data": {
      "image/png": "[encoded data removed]",
      "text/plain": [
       "<Figure size 432x288 with 1 Axes>"
      ]
     },
     "metadata": {
      "needs_background": "light"
     },
     "output_type": "display_data"
    }
   ],
   "source": [
    "plt.figure()\n",
    "plt.imshow(output, aspect='auto')\n",
    "plt.show()"
   ]
  },
  {
   "cell_type": "markdown",
   "metadata": {},
   "source": [
    "# Define cache activity as a mean over some time window"
   ]
  },
  {
   "cell_type": "code",
   "execution_count": 104,
   "metadata": {},
   "outputs": [],
   "source": [
    "avg_cache_acts = []\n",
    "for i in range(len(cache_states)):\n",
    "    location = cache_states[i]\n",
    "    vec = cache_acts_over_time[i][steps+model.seed_steps-1, location, :]#.mean(axis=0)\n",
    "    avg_cache_acts.append(vec)\n",
    "avg_cache_acts = np.array(avg_cache_acts)"
   ]
  },
  {
   "cell_type": "code",
   "execution_count": 105,
   "metadata": {},
   "outputs": [],
   "source": [
    "cache_mean = avg_cache_acts.mean(axis=0)"
   ]
  },
  {
   "cell_type": "code",
   "execution_count": 106,
   "metadata": {},
   "outputs": [],
   "source": [
    "avg_retrieval_acts = []\n",
    "for i in range(len(cache_states)):\n",
    "    location = cache_states[i]\n",
    "    vec = retrieval_acts_over_time[steps-1, location, :]#.mean(axis=0)\n",
    "    avg_retrieval_acts.append(vec)\n",
    "avg_retrieval_acts = np.array(avg_retrieval_acts)"
   ]
  },
  {
   "cell_type": "code",
   "execution_count": 107,
   "metadata": {},
   "outputs": [],
   "source": [
    "def nb(mu, std_scaling=std_scaling, mu_scaling=mu_scaling, shift=0.0):\n",
    "#def nb(mu, std_scaling=2.0, mu_scaling=0.2, shift=0.0):\n",
    "    \"\"\" mu is a vector of firing rates. std_scaling is a scalar. \"\"\"\n",
    "\n",
    "\n",
    "    mu = mu*mu_scaling + 1E-8 + shift\n",
    "    std = std_scaling * np.sqrt(mu)\n",
    "    std += 1E-8\n",
    "    n = (mu**2)/(std**2 - mu)\n",
    "    p = mu/(std**2)\n",
    "    nb_mu = nbinom.rvs(n, p)\n",
    "    return nb_mu.astype(float)\n",
    "\n",
    "\n",
    "def nb_corr(a, b):\n",
    "    nb_a = nb(a)\n",
    "    nb_b = nb(b)\n",
    "    return np.corrcoef(nb_a, nb_b)[0, 1]"
   ]
  },
  {
   "cell_type": "markdown",
   "metadata": {},
   "source": [
    "# Fig 3ab, Fig 4: cache v. visit correlation"
   ]
  },
  {
   "cell_type": "code",
   "execution_count": 108,
   "metadata": {},
   "outputs": [],
   "source": [
    "cache_cache_corr = {'Distance': [], 'Correlation': []}\n",
    "cache_visit_corr = {'Distance': [], 'Correlation': []}\n",
    "visit_visit_corr = {'Distance': [], 'Correlation': []}\n",
    "cache_retrieval_corr = {'Distance': [], 'Correlation': []}\n",
    "std_scaling = 1\n",
    "\n",
    "for i in range(len(cache_states)):\n",
    "    for j in range(i, len(cache_states)):\n",
    "        _distance = distance(cache_states[i], cache_states[j], num_states)\n",
    "        \n",
    "        cache_act_i = avg_cache_acts[i].copy()\n",
    "        cache_act_j = avg_cache_acts[j].copy()\n",
    "        retrieval_act_j = avg_retrieval_acts[j].copy()\n",
    "        place_act_i = place_acts[cache_states[i]].copy()\n",
    "        place_act_j = place_acts[cache_states[j]].copy()\n",
    "        \n",
    "        for _ in range(3): # More samples\n",
    "            c_c_corr = nb_corr(cache_act_i, cache_act_j)\n",
    "            c_v_corr = nb_corr(cache_act_i, place_act_j)\n",
    "            v_v_corr = nb_corr(place_act_i, place_act_j)\n",
    "            c_r_corr = nb_corr(cache_act_i, retrieval_act_j)\n",
    "\n",
    "            cache_cache_corr['Distance'].append(_distance)\n",
    "            cache_cache_corr['Correlation'].append(c_c_corr)\n",
    "\n",
    "            cache_visit_corr['Distance'].append(_distance)\n",
    "            cache_visit_corr['Correlation'].append(c_v_corr)\n",
    "\n",
    "            visit_visit_corr['Distance'].append(_distance)\n",
    "            visit_visit_corr['Correlation'].append(v_v_corr)\n",
    "            \n",
    "            cache_retrieval_corr['Distance'].append(_distance)\n",
    "            cache_retrieval_corr['Correlation'].append(c_r_corr)\n"
   ]
  },
  {
   "cell_type": "code",
   "execution_count": 109,
   "metadata": {},
   "outputs": [],
   "source": [
    "# cc"
   ]
  },
  {
   "cell_type": "code",
   "execution_count": 110,
   "metadata": {},
   "outputs": [
    {
     "name": "stdout",
     "output_type": "stream",
     "text": [
      "     Distance  Correlation\n",
      "0           0     0.236057\n",
      "1           0     0.217065\n",
      "2           0     0.231236\n",
      "27          0     0.269108\n",
      "28          0     0.204372\n",
      "29          0     0.194046\n",
      "51          0     0.192481\n",
      "52          0     0.144780\n",
      "53          0     0.257422\n",
      "72          0     0.207651\n",
      "73          0     0.185690\n",
      "74          0     0.188987\n",
      "90          0     0.253749\n",
      "91          0     0.224066\n",
      "92          0     0.245591\n",
      "105         0     0.237532\n",
      "106         0     0.214717\n",
      "107         0     0.234341\n",
      "117         0     0.146665\n",
      "118         0     0.277615\n",
      "119         0     0.250933\n",
      "126         0     0.278116\n",
      "127         0     0.179509\n",
      "128         0     0.261575\n",
      "132         0     0.173865\n",
      "133         0     0.230107\n",
      "134         0     0.215627\n"
     ]
    }
   ],
   "source": [
    "ccc = pd.DataFrame(cache_cache_corr)\n",
    "ccc = ccc[ccc['Distance']==0]\n",
    "print(ccc)"
   ]
  },
  {
   "cell_type": "code",
   "execution_count": 111,
   "metadata": {},
   "outputs": [
    {
     "data": {
      "text/plain": [
       "Distance       0.000000\n",
       "Correlation    0.220478\n",
       "dtype: float64"
      ]
     },
     "execution_count": 111,
     "metadata": {},
     "output_type": "execute_result"
    }
   ],
   "source": [
    "np.mean(ccc)"
   ]
  },
  {
   "cell_type": "code",
   "execution_count": 112,
   "metadata": {},
   "outputs": [],
   "source": [
    "# cr"
   ]
  },
  {
   "cell_type": "code",
   "execution_count": 113,
   "metadata": {},
   "outputs": [
    {
     "name": "stdout",
     "output_type": "stream",
     "text": [
      "     Distance  Correlation\n",
      "0           0     0.325006\n",
      "1           0     0.256354\n",
      "2           0     0.252414\n",
      "27          0     0.254798\n",
      "28          0     0.298793\n",
      "29          0     0.236101\n",
      "51          0     0.272126\n",
      "52          0     0.264408\n",
      "53          0     0.251221\n",
      "72          0     0.220879\n",
      "73          0     0.248226\n",
      "74          0     0.172432\n",
      "90          0     0.168504\n",
      "91          0     0.231265\n",
      "92          0     0.298043\n",
      "105         0     0.324282\n",
      "106         0     0.251281\n",
      "107         0     0.281673\n",
      "117         0     0.196563\n",
      "118         0     0.251561\n",
      "119         0     0.168623\n",
      "126         0     0.243523\n",
      "127         0     0.285501\n",
      "128         0     0.258624\n",
      "132         0     0.193623\n",
      "133         0     0.309963\n",
      "134         0     0.220704\n"
     ]
    }
   ],
   "source": [
    "crc = pd.DataFrame(cache_retrieval_corr)\n",
    "crc = crc[crc['Distance']==0]\n",
    "print(crc)"
   ]
  },
  {
   "cell_type": "code",
   "execution_count": 114,
   "metadata": {},
   "outputs": [
    {
     "data": {
      "text/plain": [
       "Distance       0.0000\n",
       "Correlation    0.2495\n",
       "dtype: float64"
      ]
     },
     "execution_count": 114,
     "metadata": {},
     "output_type": "execute_result"
    }
   ],
   "source": [
    "np.mean(crc)"
   ]
  },
  {
   "cell_type": "code",
   "execution_count": 115,
   "metadata": {},
   "outputs": [],
   "source": [
    "# vv"
   ]
  },
  {
   "cell_type": "code",
   "execution_count": 116,
   "metadata": {},
   "outputs": [],
   "source": [
    "vvc = pd.DataFrame(visit_visit_corr)\n",
    "vvc = vvc[vvc['Distance']==0]"
   ]
  },
  {
   "cell_type": "code",
   "execution_count": 117,
   "metadata": {},
   "outputs": [
    {
     "data": {
      "text/plain": [
       "Distance       0.000000\n",
       "Correlation    0.076828\n",
       "dtype: float64"
      ]
     },
     "execution_count": 117,
     "metadata": {},
     "output_type": "execute_result"
    }
   ],
   "source": [
    "np.mean(vvc)"
   ]
  },
  {
   "cell_type": "markdown",
   "metadata": {},
   "source": [
    "# Plot"
   ]
  },
  {
   "cell_type": "code",
   "execution_count": 128,
   "metadata": {},
   "outputs": [
    {
     "data": {
      "image/png": "[encoded data removed]",
      "text/plain": [
       "<Figure size 144x144 with 1 Axes>"
      ]
     },
     "metadata": {
      "needs_background": "light"
     },
     "output_type": "display_data"
    }
   ],
   "source": [
    "from scipy.optimize import curve_fit\n",
    "\n",
    "# Exponential function to fit\n",
    "def exp_func(x, a, b):\n",
    "    return a * np.exp(-b * x)\n",
    "\n",
    "fig, ax = plt.subplots(figsize=(2.,2.))\n",
    "visit_visit_df = pd.DataFrame(visit_visit_corr)\n",
    "cache_retrieve_df = pd.DataFrame(cache_retrieval_corr)\n",
    "norm_constant = np.mean(\n",
    "    visit_visit_df[visit_visit_df['Distance']==0]['Correlation']\n",
    "    )\n",
    "visit_visit_df['Correlation'] = visit_visit_df['Correlation'].div(norm_constant)\n",
    "cache_retrieve_df['Correlation'] = cache_retrieve_df['Correlation'].div(norm_constant)\n",
    "for df, color in zip(\n",
    "    [visit_visit_df, cache_retrieve_df], ['black', 'purple']):\n",
    "    \n",
    "    # Get mean correlation at each distance and scatterplot\n",
    "    mean_df = df.groupby('Distance')['Correlation'].mean().reset_index()\n",
    "    ax.scatter(\n",
    "        mean_df['Distance'], mean_df['Correlation'], color=color, alpha=0.8)\n",
    "    \n",
    "    if df is visit_visit_df: continue\n",
    "    \n",
    "    # Make nonzero for curve fitting\n",
    "    df_nonzero = df[df['Distance'] != 0].copy()\n",
    "    offset = df_nonzero['Correlation'].min()\n",
    "    df_nonzero['Correlation'] = df_nonzero['Correlation'] - offset\n",
    "    params, covariance = curve_fit(exp_func, df_nonzero['Distance'], df_nonzero['Correlation'])\n",
    "\n",
    "    # Plot curve as a line\n",
    "    x_values = np.linspace(0, max(df['Distance']), 100)\n",
    "    ax.plot(\n",
    "        x_values, exp_func(x_values, *params) + offset,\n",
    "        color=color, alpha=0.8, linestyle='--')\n",
    "    \n",
    "plt.xticks([0, 5, 10, 15, 20, 25, 30, 35, 40, 45],\n",
    "           [0, '', 2, '', 4, '', 6, '', 8, ''])\n",
    "plt.xlabel('')#'Distance (sites)')\n",
    "plt.ylabel('')#'Correlation\\n(norm.)')\n",
    "plt.tight_layout()\n",
    "plt.yticks([0, 1, 2, 3])\n",
    "plt.savefig('c_r_corr.png', dpi=300)\n",
    "plt.show()"
   ]
  },
  {
   "cell_type": "code",
   "execution_count": 130,
   "metadata": {},
   "outputs": [
    {
     "data": {
      "image/png": "[encoded data removed]",
      "text/plain": [
       "<Figure size 144x144 with 1 Axes>"
      ]
     },
     "metadata": {
      "needs_background": "light"
     },
     "output_type": "display_data"
    }
   ],
   "source": [
    "from scipy.optimize import curve_fit\n",
    "\n",
    "# Exponential function to fit\n",
    "def exp_func(x, a, b):\n",
    "    return a * np.exp(-b * x)\n",
    "\n",
    "fig, ax = plt.subplots(figsize=(2.,2.))\n",
    "visit_visit_df = pd.DataFrame(visit_visit_corr)\n",
    "cache_retrieve_df = pd.DataFrame(cache_retrieval_corr)\n",
    "norm_constant = np.mean(\n",
    "    visit_visit_df[visit_visit_df['Distance']==0]['Correlation']\n",
    "    )\n",
    "visit_visit_df['Correlation'] = visit_visit_df['Correlation'].div(norm_constant)\n",
    "cache_retrieve_df['Correlation'] = cache_retrieve_df['Correlation'].div(norm_constant)\n",
    "for df, color in zip(\n",
    "    [visit_visit_df, cache_retrieve_df], ['black', 'purple']):\n",
    "\n",
    "    # Plot curve as a line\n",
    "    x_values = np.linspace(0, max(df['Distance']), 100)\n",
    "    sns.lineplot(x='Distance', y='Correlation', data=df, color=color)\n",
    "    \n",
    "plt.xticks([0, 5, 10, 15, 20, 25, 30, 35, 40, 45],\n",
    "           [0, '', 2, '', 4, '', 6, '', 8, ''])\n",
    "plt.xlabel('')#'Distance (sites)')\n",
    "plt.ylabel('')#'Correlation\\n(norm.)')\n",
    "plt.tight_layout()\n",
    "plt.yticks([0, 1, 2, 3])\n",
    "plt.savefig('c_r_corr.png', dpi=300)\n",
    "plt.show()"
   ]
  },
  {
   "cell_type": "code",
   "execution_count": null,
   "metadata": {},
   "outputs": [],
   "source": []
  }
 ],
 "metadata": {
  "kernelspec": {
   "display_name": "Python 3",
   "language": "python",
   "name": "python3"
  },
  "language_info": {
   "codemirror_mode": {
    "name": "ipython",
    "version": 3
   },
   "file_extension": ".py",
   "mimetype": "text/x-python",
   "name": "python",
   "nbconvert_exporter": "python",
   "pygments_lexer": "ipython3",
   "version": "3.7.3"
  }
 },
 "nbformat": 4,
 "nbformat_minor": 5
}
