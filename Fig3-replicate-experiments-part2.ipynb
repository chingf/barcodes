{
 "cells": [
  {
   "cell_type": "code",
   "execution_count": 1,
   "metadata": {},
   "outputs": [],
   "source": [
    "import numpy as np\n",
    "import matplotlib.pyplot as plt\n",
    "import numpy as np\n",
    "from scipy.stats import poisson, nbinom\n",
    "import seaborn as sns\n",
    "import pandas as pd\n",
    "\n",
    "from Model import Model\n",
    "from PlaceInputs import PlaceInputs\n",
    "from utils import *\n",
    "import configs"
   ]
  },
  {
   "cell_type": "markdown",
   "metadata": {},
   "source": [
    "# Parameters and Initialization"
   ]
  },
  {
   "cell_type": "code",
   "execution_count": 2,
   "metadata": {},
   "outputs": [],
   "source": [
    "# Parameters\n",
    "N_inp = 5000\n",
    "N_bar = 5000\n",
    "num_states = 100\n",
    "steps = 100"
   ]
  },
  {
   "cell_type": "code",
   "execution_count": 3,
   "metadata": {},
   "outputs": [],
   "source": [
    "place_inputs = PlaceInputs(N_inp, num_states).get_inputs()\n",
    "model = Model(N_inp, N_bar, num_states, steps=steps)"
   ]
  },
  {
   "cell_type": "code",
   "execution_count": 4,
   "metadata": {},
   "outputs": [],
   "source": [
    "cache_states = [0, 10, 20, 30, 40, 50, 60, 70, 80]"
   ]
  },
  {
   "cell_type": "markdown",
   "metadata": {},
   "source": [
    "# Run Task (with learning)"
   ]
  },
  {
   "cell_type": "code",
   "execution_count": 5,
   "metadata": {},
   "outputs": [
    {
     "name": "stdout",
     "output_type": "stream",
     "text": [
      "Now I just cached at location: 0\n",
      "Now I just cached at location: 10\n",
      "Now I just cached at location: 20\n",
      "Now I just cached at location: 30\n",
      "Now I just cached at location: 40\n",
      "Now I just cached at location: 50\n",
      "Now I just cached at location: 60\n",
      "Now I just cached at location: 70\n",
      "Now I just cached at location: 80\n"
     ]
    }
   ],
   "source": [
    "model.reset()\n",
    "cache_acts = []\n",
    "cache_acts_over_time = []\n",
    "\n",
    "for cache_state in cache_states:\n",
    "    print(\"Now I just cached at location:\", cache_state)\n",
    "    preacts, acts, _, acts_over_time = model.run_recurrent(place_inputs, n_zero_input=20)\n",
    "    model.update(place_inputs[cache_state], acts[cache_state], preacts[cache_state])\n",
    "    cache_acts.append(acts.copy())\n",
    "    cache_acts_over_time.append(acts_over_time.copy())"
   ]
  },
  {
   "cell_type": "code",
   "execution_count": 6,
   "metadata": {},
   "outputs": [],
   "source": [
    "_, _, output, retrieval_acts_over_time = model.run_recall(0., place_inputs)"
   ]
  },
  {
   "cell_type": "code",
   "execution_count": 7,
   "metadata": {},
   "outputs": [],
   "source": [
    "_, place_acts, _, _ = model.run_nonrecurrent(place_inputs)\n",
    "place_mean = np.mean(place_acts, axis=0).flatten()\n",
    "place_std = np.std(place_acts, axis=0).flatten()"
   ]
  },
  {
   "cell_type": "code",
   "execution_count": 8,
   "metadata": {},
   "outputs": [
    {
     "data": {
      "image/png": "[encoded data removed]",
      "text/plain": [
       "<Figure size 432x288 with 1 Axes>"
      ]
     },
     "metadata": {
      "needs_background": "light"
     },
     "output_type": "display_data"
    }
   ],
   "source": [
    "plt.figure()\n",
    "plt.imshow(output, aspect='auto')\n",
    "plt.show()"
   ]
  },
  {
   "cell_type": "markdown",
   "metadata": {},
   "source": [
    "# Define cache activity as a mean over some time window"
   ]
  },
  {
   "cell_type": "code",
   "execution_count": 9,
   "metadata": {},
   "outputs": [],
   "source": [
    "avg_cache_acts = []\n",
    "for i in range(len(cache_states)):\n",
    "    location = cache_states[i]\n",
    "    vec = cache_acts_over_time[i][steps+model.seed_steps-1, location, :]#.mean(axis=0)\n",
    "    avg_cache_acts.append(vec)\n",
    "avg_cache_acts = np.array(avg_cache_acts)"
   ]
  },
  {
   "cell_type": "code",
   "execution_count": 10,
   "metadata": {},
   "outputs": [],
   "source": [
    "cache_mean = avg_cache_acts.mean(axis=0)"
   ]
  },
  {
   "cell_type": "code",
   "execution_count": 11,
   "metadata": {},
   "outputs": [],
   "source": [
    "avg_retrieval_acts = []\n",
    "for i in range(len(cache_states)):\n",
    "    location = cache_states[i]\n",
    "    vec = retrieval_acts_over_time[steps-1, location, :]#.mean(axis=0)\n",
    "    avg_retrieval_acts.append(vec)\n",
    "avg_retrieval_acts = np.array(avg_retrieval_acts)"
   ]
  },
  {
   "cell_type": "code",
   "execution_count": 12,
   "metadata": {},
   "outputs": [],
   "source": [
    "def nb(mu, std_scaling=1.0, mu_scaling=0.75, shift=0.0):\n",
    "    \"\"\" mu is a vector of firing rates. std_scaling is a scalar. \"\"\"\n",
    "\n",
    "\n",
    "    mu = mu*mu_scaling + 1E-8 + shift\n",
    "    std = std_scaling * np.sqrt(mu)\n",
    "    std += 1E-8\n",
    "    n = (mu**2)/(std**2 - mu)\n",
    "    p = mu/(std**2)\n",
    "    nb_mu = nbinom.rvs(n, p)\n",
    "    return nb_mu.astype(float)\n",
    "\n",
    "\n",
    "def nb_corr(a, b):\n",
    "    nb_a = nb(a)\n",
    "    nb_b = nb(b)\n",
    "    return np.corrcoef(nb_a, nb_b)[0, 1]"
   ]
  },
  {
   "cell_type": "markdown",
   "metadata": {},
   "source": [
    "# Fig 3ab, Fig 4: cache v. visit correlation"
   ]
  },
  {
   "cell_type": "code",
   "execution_count": 13,
   "metadata": {},
   "outputs": [],
   "source": [
    "cache_cache_corr = {'Distance': [], 'Correlation': []}\n",
    "cache_visit_corr = {'Distance': [], 'Correlation': []}\n",
    "visit_visit_corr = {'Distance': [], 'Correlation': []}\n",
    "cache_retrieval_corr = {'Distance': [], 'Correlation': []}\n",
    "std_scaling = 1\n",
    "\n",
    "for i in range(len(cache_states)):\n",
    "    for j in range(i, len(cache_states)):\n",
    "        _distance = distance(cache_states[i], cache_states[j], num_states)\n",
    "        \n",
    "        cache_act_i = avg_cache_acts[i].copy()\n",
    "        cache_act_j = avg_cache_acts[j].copy()\n",
    "        retrieval_act_j = avg_retrieval_acts[j].copy()\n",
    "        place_act_i = place_acts[cache_states[i]].copy()\n",
    "        place_act_j = place_acts[cache_states[j]].copy()\n",
    "        \n",
    "        for _ in range(3): # More samples\n",
    "            c_c_corr = nb_corr(cache_act_i, cache_act_j)\n",
    "            c_v_corr = nb_corr(cache_act_i, place_act_j)\n",
    "            v_v_corr = nb_corr(place_act_i, place_act_j)\n",
    "            c_r_corr = nb_corr(cache_act_i, retrieval_act_j)\n",
    "\n",
    "            cache_cache_corr['Distance'].append(_distance)\n",
    "            cache_cache_corr['Correlation'].append(c_c_corr)\n",
    "\n",
    "            cache_visit_corr['Distance'].append(_distance)\n",
    "            cache_visit_corr['Correlation'].append(c_v_corr)\n",
    "\n",
    "            visit_visit_corr['Distance'].append(_distance)\n",
    "            visit_visit_corr['Correlation'].append(v_v_corr)\n",
    "            \n",
    "            cache_retrieval_corr['Distance'].append(_distance)\n",
    "            cache_retrieval_corr['Correlation'].append(c_r_corr)\n"
   ]
  },
  {
   "cell_type": "code",
   "execution_count": 14,
   "metadata": {},
   "outputs": [],
   "source": [
    "# cc"
   ]
  },
  {
   "cell_type": "code",
   "execution_count": 15,
   "metadata": {},
   "outputs": [
    {
     "name": "stdout",
     "output_type": "stream",
     "text": [
      "     Distance  Correlation\n",
      "0           0     0.500378\n",
      "1           0     0.477129\n",
      "2           0     0.490327\n",
      "27          0     0.512056\n",
      "28          0     0.493927\n",
      "29          0     0.501336\n",
      "51          0     0.560128\n",
      "52          0     0.481468\n",
      "53          0     0.509818\n",
      "72          0     0.580931\n",
      "73          0     0.533310\n",
      "74          0     0.532185\n",
      "90          0     0.457424\n",
      "91          0     0.461320\n",
      "92          0     0.482552\n",
      "105         0     0.488557\n",
      "106         0     0.488684\n",
      "107         0     0.440826\n",
      "117         0     0.528763\n",
      "118         0     0.523570\n",
      "119         0     0.504143\n",
      "126         0     0.444184\n",
      "127         0     0.518392\n",
      "128         0     0.535375\n",
      "132         0     0.487770\n",
      "133         0     0.571848\n",
      "134         0     0.517019\n"
     ]
    }
   ],
   "source": [
    "ccc = pd.DataFrame(cache_cache_corr)\n",
    "ccc = ccc[ccc['Distance']==0]\n",
    "print(ccc)"
   ]
  },
  {
   "cell_type": "code",
   "execution_count": 16,
   "metadata": {},
   "outputs": [
    {
     "data": {
      "text/plain": [
       "Distance       0.000000\n",
       "Correlation    0.504571\n",
       "dtype: float64"
      ]
     },
     "execution_count": 16,
     "metadata": {},
     "output_type": "execute_result"
    }
   ],
   "source": [
    "np.mean(ccc)"
   ]
  },
  {
   "cell_type": "code",
   "execution_count": 17,
   "metadata": {},
   "outputs": [],
   "source": [
    "# cr"
   ]
  },
  {
   "cell_type": "code",
   "execution_count": 18,
   "metadata": {},
   "outputs": [
    {
     "name": "stdout",
     "output_type": "stream",
     "text": [
      "     Distance  Correlation\n",
      "0           0     0.530871\n",
      "1           0     0.571757\n",
      "2           0     0.537715\n",
      "27          0     0.579085\n",
      "28          0     0.538385\n",
      "29          0     0.541622\n",
      "51          0     0.442270\n",
      "52          0     0.518204\n",
      "53          0     0.470335\n",
      "72          0     0.497803\n",
      "73          0     0.494556\n",
      "74          0     0.480657\n",
      "90          0     0.441166\n",
      "91          0     0.419580\n",
      "92          0     0.494276\n",
      "105         0     0.546453\n",
      "106         0     0.549224\n",
      "107         0     0.537037\n",
      "117         0     0.447878\n",
      "118         0     0.496285\n",
      "119         0     0.504968\n",
      "126         0     0.510427\n",
      "127         0     0.518796\n",
      "128         0     0.448727\n",
      "132         0     0.510206\n",
      "133         0     0.571718\n",
      "134         0     0.553540\n"
     ]
    }
   ],
   "source": [
    "crc = pd.DataFrame(cache_retrieval_corr)\n",
    "crc = crc[crc['Distance']==0]\n",
    "print(crc)"
   ]
  },
  {
   "cell_type": "code",
   "execution_count": 19,
   "metadata": {},
   "outputs": [
    {
     "data": {
      "text/plain": [
       "Distance       0.00000\n",
       "Correlation    0.50939\n",
       "dtype: float64"
      ]
     },
     "execution_count": 19,
     "metadata": {},
     "output_type": "execute_result"
    }
   ],
   "source": [
    "np.mean(crc)"
   ]
  },
  {
   "cell_type": "code",
   "execution_count": 20,
   "metadata": {},
   "outputs": [],
   "source": [
    "# vv"
   ]
  },
  {
   "cell_type": "code",
   "execution_count": 21,
   "metadata": {},
   "outputs": [],
   "source": [
    "vvc = pd.DataFrame(visit_visit_corr)\n",
    "vvc = vvc[vvc['Distance']==0]"
   ]
  },
  {
   "cell_type": "code",
   "execution_count": 22,
   "metadata": {},
   "outputs": [
    {
     "data": {
      "text/plain": [
       "Distance       0.000000\n",
       "Correlation    0.224267\n",
       "dtype: float64"
      ]
     },
     "execution_count": 22,
     "metadata": {},
     "output_type": "execute_result"
    }
   ],
   "source": [
    "np.mean(vvc)"
   ]
  },
  {
   "cell_type": "markdown",
   "metadata": {},
   "source": [
    "# Plot"
   ]
  },
  {
   "cell_type": "code",
   "execution_count": 23,
   "metadata": {},
   "outputs": [
    {
     "data": {
      "image/png": "[encoded data removed]",
      "text/plain": [
       "<Figure size 288x216 with 1 Axes>"
      ]
     },
     "metadata": {
      "needs_background": "light"
     },
     "output_type": "display_data"
    }
   ],
   "source": [
    "plt.figure(figsize=(4,3))\n",
    "sns.lineplot(\n",
    "    x='Distance', y='Correlation', data=pd.DataFrame(cache_cache_corr),\n",
    "    color='C0', label='Cache-Cache')\n",
    "sns.lineplot(x='Distance', y='Correlation', data=pd.DataFrame(visit_visit_corr),\n",
    "    color='C2', label='Visit-Visit')\n",
    "sns.lineplot(x='Distance', y='Correlation', data=pd.DataFrame(cache_retrieval_corr),\n",
    "    color='purple', label='Cache-Retrieval')\n",
    "plt.tight_layout()\n",
    "plt.savefig('c_r_corr.png', dpi=300)\n",
    "plt.show()"
   ]
  },
  {
   "cell_type": "code",
   "execution_count": null,
   "metadata": {},
   "outputs": [],
   "source": []
  },
  {
   "cell_type": "code",
   "execution_count": null,
   "metadata": {},
   "outputs": [],
   "source": []
  }
 ],
 "metadata": {
  "kernelspec": {
   "display_name": "Python 3",
   "language": "python",
   "name": "python3"
  },
  "language_info": {
   "codemirror_mode": {
    "name": "ipython",
    "version": 3
   },
   "file_extension": ".py",
   "mimetype": "text/x-python",
   "name": "python",
   "nbconvert_exporter": "python",
   "pygments_lexer": "ipython3",
   "version": "3.7.3"
  }
 },
 "nbformat": 4,
 "nbformat_minor": 5
}
