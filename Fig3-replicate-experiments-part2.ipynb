{
 "cells": [
  {
   "cell_type": "code",
   "execution_count": 2,
   "metadata": {},
   "outputs": [],
   "source": [
    "import numpy as np\n",
    "import matplotlib.pyplot as plt\n",
    "import numpy as np\n",
    "from scipy.stats import poisson, nbinom\n",
    "import seaborn as sns\n",
    "import pandas as pd\n",
    "\n",
    "from Model import Model\n",
    "from PlaceInputs import PlaceInputs\n",
    "from utils import *\n",
    "import configs"
   ]
  },
  {
   "cell_type": "markdown",
   "metadata": {},
   "source": [
    "# Parameters and Initialization"
   ]
  },
  {
   "cell_type": "code",
   "execution_count": 3,
   "metadata": {},
   "outputs": [],
   "source": [
    "# Parameters\n",
    "N_inp = 5000\n",
    "N_bar = 5000\n",
    "num_states = 100\n",
    "steps = 100"
   ]
  },
  {
   "cell_type": "code",
   "execution_count": 4,
   "metadata": {},
   "outputs": [],
   "source": [
    "place_inputs = PlaceInputs(N_inp, num_states).get_inputs()\n",
    "model = Model(N_inp, N_bar, num_states, steps=steps, rec_strength=4.0)"
   ]
  },
  {
   "cell_type": "code",
   "execution_count": 5,
   "metadata": {},
   "outputs": [],
   "source": [
    "cache_states = [0, 10, 20, 30, 40, 50, 60, 70, 80]"
   ]
  },
  {
   "cell_type": "markdown",
   "metadata": {},
   "source": [
    "# Run Task (with learning)"
   ]
  },
  {
   "cell_type": "code",
   "execution_count": 6,
   "metadata": {},
   "outputs": [
    {
     "name": "stdout",
     "output_type": "stream",
     "text": [
      "Now I just cached at location: 0\n",
      "Now I just cached at location: 10\n",
      "Now I just cached at location: 20\n",
      "Now I just cached at location: 30\n",
      "Now I just cached at location: 40\n",
      "Now I just cached at location: 50\n",
      "Now I just cached at location: 60\n",
      "Now I just cached at location: 70\n",
      "Now I just cached at location: 80\n"
     ]
    }
   ],
   "source": [
    "model.reset()\n",
    "cache_acts = []\n",
    "cache_acts_over_time = []\n",
    "\n",
    "for cache_state in cache_states:\n",
    "    print(\"Now I just cached at location:\", cache_state)\n",
    "    preacts, acts, _, acts_over_time = model.run_recurrent(place_inputs, n_zero_input=20)\n",
    "    model.update(place_inputs[cache_state], acts[cache_state], preacts[cache_state])\n",
    "    cache_acts.append(acts.copy())\n",
    "    cache_acts_over_time.append(acts_over_time.copy())"
   ]
  },
  {
   "cell_type": "code",
   "execution_count": 7,
   "metadata": {},
   "outputs": [],
   "source": [
    "_, _, output, retrieval_acts_over_time = model.run_recall(0., place_inputs)"
   ]
  },
  {
   "cell_type": "code",
   "execution_count": 8,
   "metadata": {},
   "outputs": [],
   "source": [
    "_, place_acts, _, _ = model.run_nonrecurrent(place_inputs)\n",
    "place_mean = np.mean(place_acts, axis=0).flatten()\n",
    "place_std = np.std(place_acts, axis=0).flatten()"
   ]
  },
  {
   "cell_type": "code",
   "execution_count": 9,
   "metadata": {},
   "outputs": [
    {
     "data": {
      "image/png": "[encoded data removed]",
      "text/plain": [
       "<Figure size 432x288 with 1 Axes>"
      ]
     },
     "metadata": {
      "needs_background": "light"
     },
     "output_type": "display_data"
    }
   ],
   "source": [
    "plt.figure()\n",
    "plt.imshow(output, aspect='auto')\n",
    "plt.show()"
   ]
  },
  {
   "cell_type": "markdown",
   "metadata": {},
   "source": [
    "# Define cache activity as a mean over some time window"
   ]
  },
  {
   "cell_type": "code",
   "execution_count": 10,
   "metadata": {},
   "outputs": [],
   "source": [
    "avg_cache_acts = []\n",
    "for i in range(len(cache_states)):\n",
    "    location = cache_states[i]\n",
    "    vec = cache_acts_over_time[i][steps+model.seed_steps-1, location, :]#.mean(axis=0)\n",
    "    avg_cache_acts.append(vec)\n",
    "avg_cache_acts = np.array(avg_cache_acts)"
   ]
  },
  {
   "cell_type": "code",
   "execution_count": 11,
   "metadata": {},
   "outputs": [],
   "source": [
    "cache_mean = avg_cache_acts.mean(axis=0)"
   ]
  },
  {
   "cell_type": "code",
   "execution_count": 12,
   "metadata": {},
   "outputs": [],
   "source": [
    "avg_retrieval_acts = []\n",
    "for i in range(len(cache_states)):\n",
    "    location = cache_states[i]\n",
    "    vec = retrieval_acts_over_time[steps-1, location, :]#.mean(axis=0)\n",
    "    avg_retrieval_acts.append(vec)\n",
    "avg_retrieval_acts = np.array(avg_retrieval_acts)"
   ]
  },
  {
   "cell_type": "code",
   "execution_count": 13,
   "metadata": {},
   "outputs": [],
   "source": [
    "def nb(mu, std_scaling=1.0, mu_scaling=0.75, shift=0.0):\n",
    "#def nb(mu, std_scaling=2.0, mu_scaling=0.2, shift=0.0):\n",
    "    \"\"\" mu is a vector of firing rates. std_scaling is a scalar. \"\"\"\n",
    "\n",
    "\n",
    "    mu = mu*mu_scaling + 1E-8 + shift\n",
    "    std = std_scaling * np.sqrt(mu)\n",
    "    std += 1E-8\n",
    "    n = (mu**2)/(std**2 - mu)\n",
    "    p = mu/(std**2)\n",
    "    nb_mu = nbinom.rvs(n, p)\n",
    "    return nb_mu.astype(float)\n",
    "\n",
    "\n",
    "def nb_corr(a, b):\n",
    "    nb_a = nb(a)\n",
    "    nb_b = nb(b)\n",
    "    return np.corrcoef(nb_a, nb_b)[0, 1]"
   ]
  },
  {
   "cell_type": "markdown",
   "metadata": {},
   "source": [
    "# Fig 3ab, Fig 4: cache v. visit correlation"
   ]
  },
  {
   "cell_type": "code",
   "execution_count": 14,
   "metadata": {},
   "outputs": [],
   "source": [
    "cache_cache_corr = {'Distance': [], 'Correlation': []}\n",
    "cache_visit_corr = {'Distance': [], 'Correlation': []}\n",
    "visit_visit_corr = {'Distance': [], 'Correlation': []}\n",
    "cache_retrieval_corr = {'Distance': [], 'Correlation': []}\n",
    "std_scaling = 1\n",
    "\n",
    "for i in range(len(cache_states)):\n",
    "    for j in range(i, len(cache_states)):\n",
    "        _distance = distance(cache_states[i], cache_states[j], num_states)\n",
    "        \n",
    "        cache_act_i = avg_cache_acts[i].copy()\n",
    "        cache_act_j = avg_cache_acts[j].copy()\n",
    "        retrieval_act_j = avg_retrieval_acts[j].copy()\n",
    "        place_act_i = place_acts[cache_states[i]].copy()\n",
    "        place_act_j = place_acts[cache_states[j]].copy()\n",
    "        \n",
    "        for _ in range(3): # More samples\n",
    "            c_c_corr = nb_corr(cache_act_i, cache_act_j)\n",
    "            c_v_corr = nb_corr(cache_act_i, place_act_j)\n",
    "            v_v_corr = nb_corr(place_act_i, place_act_j)\n",
    "            c_r_corr = nb_corr(cache_act_i, retrieval_act_j)\n",
    "\n",
    "            cache_cache_corr['Distance'].append(_distance)\n",
    "            cache_cache_corr['Correlation'].append(c_c_corr)\n",
    "\n",
    "            cache_visit_corr['Distance'].append(_distance)\n",
    "            cache_visit_corr['Correlation'].append(c_v_corr)\n",
    "\n",
    "            visit_visit_corr['Distance'].append(_distance)\n",
    "            visit_visit_corr['Correlation'].append(v_v_corr)\n",
    "            \n",
    "            cache_retrieval_corr['Distance'].append(_distance)\n",
    "            cache_retrieval_corr['Correlation'].append(c_r_corr)\n"
   ]
  },
  {
   "cell_type": "code",
   "execution_count": 15,
   "metadata": {},
   "outputs": [],
   "source": [
    "# cc"
   ]
  },
  {
   "cell_type": "code",
   "execution_count": 16,
   "metadata": {},
   "outputs": [
    {
     "name": "stdout",
     "output_type": "stream",
     "text": [
      "     Distance  Correlation\n",
      "0           0     0.514091\n",
      "1           0     0.477605\n",
      "2           0     0.468672\n",
      "27          0     0.470157\n",
      "28          0     0.481945\n",
      "29          0     0.459661\n",
      "51          0     0.480263\n",
      "52          0     0.486847\n",
      "53          0     0.470423\n",
      "72          0     0.518418\n",
      "73          0     0.480632\n",
      "74          0     0.471836\n",
      "90          0     0.456213\n",
      "91          0     0.462765\n",
      "92          0     0.474602\n",
      "105         0     0.473390\n",
      "106         0     0.535202\n",
      "107         0     0.484034\n",
      "117         0     0.526706\n",
      "118         0     0.496578\n",
      "119         0     0.474047\n",
      "126         0     0.504897\n",
      "127         0     0.495697\n",
      "128         0     0.519096\n",
      "132         0     0.543130\n",
      "133         0     0.495936\n",
      "134         0     0.473383\n"
     ]
    }
   ],
   "source": [
    "ccc = pd.DataFrame(cache_cache_corr)\n",
    "ccc = ccc[ccc['Distance']==0]\n",
    "print(ccc)"
   ]
  },
  {
   "cell_type": "code",
   "execution_count": 17,
   "metadata": {},
   "outputs": [
    {
     "data": {
      "text/plain": [
       "Distance       0.000000\n",
       "Correlation    0.488749\n",
       "dtype: float64"
      ]
     },
     "execution_count": 17,
     "metadata": {},
     "output_type": "execute_result"
    }
   ],
   "source": [
    "np.mean(ccc)"
   ]
  },
  {
   "cell_type": "code",
   "execution_count": 18,
   "metadata": {},
   "outputs": [],
   "source": [
    "# cr"
   ]
  },
  {
   "cell_type": "code",
   "execution_count": 19,
   "metadata": {},
   "outputs": [
    {
     "name": "stdout",
     "output_type": "stream",
     "text": [
      "     Distance  Correlation\n",
      "0           0     0.549767\n",
      "1           0     0.528044\n",
      "2           0     0.529348\n",
      "27          0     0.476757\n",
      "28          0     0.523655\n",
      "29          0     0.496442\n",
      "51          0     0.462391\n",
      "52          0     0.498096\n",
      "53          0     0.569740\n",
      "72          0     0.507689\n",
      "73          0     0.580134\n",
      "74          0     0.589634\n",
      "90          0     0.534600\n",
      "91          0     0.503469\n",
      "92          0     0.543430\n",
      "105         0     0.538739\n",
      "106         0     0.578118\n",
      "107         0     0.591611\n",
      "117         0     0.565152\n",
      "118         0     0.569053\n",
      "119         0     0.569157\n",
      "126         0     0.486847\n",
      "127         0     0.543138\n",
      "128         0     0.525770\n",
      "132         0     0.556366\n",
      "133         0     0.567459\n",
      "134         0     0.514562\n"
     ]
    }
   ],
   "source": [
    "crc = pd.DataFrame(cache_retrieval_corr)\n",
    "crc = crc[crc['Distance']==0]\n",
    "print(crc)"
   ]
  },
  {
   "cell_type": "code",
   "execution_count": 20,
   "metadata": {},
   "outputs": [
    {
     "data": {
      "text/plain": [
       "Distance       0.000000\n",
       "Correlation    0.537006\n",
       "dtype: float64"
      ]
     },
     "execution_count": 20,
     "metadata": {},
     "output_type": "execute_result"
    }
   ],
   "source": [
    "np.mean(crc)"
   ]
  },
  {
   "cell_type": "code",
   "execution_count": 21,
   "metadata": {},
   "outputs": [],
   "source": [
    "# vv"
   ]
  },
  {
   "cell_type": "code",
   "execution_count": 22,
   "metadata": {},
   "outputs": [],
   "source": [
    "vvc = pd.DataFrame(visit_visit_corr)\n",
    "vvc = vvc[vvc['Distance']==0]"
   ]
  },
  {
   "cell_type": "code",
   "execution_count": 23,
   "metadata": {},
   "outputs": [
    {
     "data": {
      "text/plain": [
       "Distance       0.000000\n",
       "Correlation    0.225832\n",
       "dtype: float64"
      ]
     },
     "execution_count": 23,
     "metadata": {},
     "output_type": "execute_result"
    }
   ],
   "source": [
    "np.mean(vvc)"
   ]
  },
  {
   "cell_type": "markdown",
   "metadata": {},
   "source": [
    "# Plot"
   ]
  },
  {
   "cell_type": "code",
   "execution_count": 29,
   "metadata": {},
   "outputs": [
    {
     "data": {
      "image/png": "[encoded data removed]",
      "text/plain": [
       "<Figure size 234x144 with 1 Axes>"
      ]
     },
     "metadata": {
      "needs_background": "light"
     },
     "output_type": "display_data"
    }
   ],
   "source": [
    "plt.figure(figsize=(3.25,2.))\n",
    "sns.lineplot(x='Distance', y='Correlation', data=pd.DataFrame(visit_visit_corr),\n",
    "    color='gray', label='Visit-Visit', linewidth=2.)\n",
    "sns.lineplot(x='Distance', y='Correlation', data=pd.DataFrame(cache_retrieval_corr),\n",
    "    color='C4', label='Cache-Retrieval', linewidth=2.)\n",
    "plt.xticks([0, 5, 10, 15, 20, 25, 30, 35, 40, 45, 50],\n",
    "           [0, 1, 2, 3, 4, 5, 6, 7, 8, 9, 10])\n",
    "plt.xlabel('Distance (sites)')\n",
    "plt.yticks([0., 0.5])\n",
    "plt.tight_layout()\n",
    "plt.savefig('c_r_corr.png', dpi=300)\n",
    "plt.show()"
   ]
  },
  {
   "cell_type": "code",
   "execution_count": null,
   "metadata": {},
   "outputs": [],
   "source": []
  },
  {
   "cell_type": "code",
   "execution_count": null,
   "metadata": {},
   "outputs": [],
   "source": []
  }
 ],
 "metadata": {
  "kernelspec": {
   "display_name": "Python 3",
   "language": "python",
   "name": "python3"
  },
  "language_info": {
   "codemirror_mode": {
    "name": "ipython",
    "version": 3
   },
   "file_extension": ".py",
   "mimetype": "text/x-python",
   "name": "python",
   "nbconvert_exporter": "python",
   "pygments_lexer": "ipython3",
   "version": "3.7.3"
  }
 },
 "nbformat": 4,
 "nbformat_minor": 5
}
