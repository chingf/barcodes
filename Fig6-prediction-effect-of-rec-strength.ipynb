{
 "cells": [
  {
   "cell_type": "code",
   "execution_count": 1,
   "metadata": {},
   "outputs": [],
   "source": [
    "import numpy as np\n",
    "import matplotlib.pyplot as plt\n",
    "import numpy as np\n",
    "import seaborn as sns\n",
    "import pandas as pd\n",
    "from Model import Model\n",
    "from PlaceInputs import PlaceInputs\n",
    "from utils import *\n",
    "import configs"
   ]
  },
  {
   "cell_type": "markdown",
   "metadata": {},
   "source": [
    "# Initialize RNN"
   ]
  },
  {
   "cell_type": "code",
   "execution_count": 2,
   "metadata": {},
   "outputs": [],
   "source": [
    "# Parameters\n",
    "N_inp = 5000\n",
    "N_bar = 5000\n",
    "num_states = 100"
   ]
  },
  {
   "cell_type": "code",
   "execution_count": 3,
   "metadata": {},
   "outputs": [],
   "source": [
    "place_inputs = PlaceInputs(N_inp, num_states).get_inputs()\n",
    "model = Model(\n",
    "    N_inp, N_bar, num_states,\n",
    "    plasticity_bias = -0.45,\n",
    "    narrow_search_factor=0.5, wide_search_factor=1.5,\n",
    "    )"
   ]
  },
  {
   "cell_type": "code",
   "execution_count": 4,
   "metadata": {},
   "outputs": [],
   "source": [
    "_, place_acts, _, _ = model.run_nonrecurrent(place_inputs)"
   ]
  },
  {
   "cell_type": "markdown",
   "metadata": {},
   "source": [
    "# Add predictive skew to RNN weights"
   ]
  },
  {
   "cell_type": "code",
   "execution_count": 5,
   "metadata": {},
   "outputs": [],
   "source": [
    "identity = np.eye(model.N_bar)\n",
    "total_delta = np.zeros((model.N_bar, model.N_bar))\n",
    "n_shifts = 500 \n",
    "gamma = 0.99\n",
    "for s in range(1, n_shifts):\n",
    "    shifted = np.roll(identity, shift=-(s+50), axis=0)\n",
    "    delta = (gamma**s)*0.04*shifted\n",
    "    model.J_xx += delta\n",
    "    total_delta += delta.copy()"
   ]
  },
  {
   "cell_type": "code",
   "execution_count": 6,
   "metadata": {},
   "outputs": [],
   "source": [
    "_, cache_acts, _, _ = model.run_recurrent_r(place_inputs, 1.0)"
   ]
  },
  {
   "cell_type": "markdown",
   "metadata": {},
   "source": [
    "# Get projections for each value of r"
   ]
  },
  {
   "cell_type": "code",
   "execution_count": 7,
   "metadata": {},
   "outputs": [],
   "source": [
    "data = {\n",
    "    'Projection': [],\n",
    "    'r': [],\n",
    "    'Mode': []\n",
    "    }\n",
    "for r in np.arange(0, 1.1, 0.1):\n",
    "    _, acts, _, _ = model.run_recurrent_r(place_inputs, r)\n",
    "    \n",
    "    for row in range(acts.shape[0]):\n",
    "        _act = acts[row].copy()\n",
    "        _act = _act - _act.mean()\n",
    "        _act = _act/np.linalg.norm(_act)\n",
    "        \n",
    "        _place = place_acts[row] / np.linalg.norm(place_acts[row])\n",
    "        _cache = cache_acts[row]\n",
    "        _bar = _cache - np.dot(_cache, _place) * _place\n",
    "        _bar = _bar/np.linalg.norm(_bar)\n",
    "        _pred = place_acts[(row+1)%num_states]\n",
    "        _pred = _pred - np.dot(_pred, _place) * _place\n",
    "        _pred = _pred/np.linalg.norm(_pred)\n",
    "        _place_minus_pred = place_acts[row] - np.dot(place_acts[row], _pred) * _pred\n",
    "        _place_minus_pred = _place_minus_pred/np.linalg.norm(_place_minus_pred)\n",
    "\n",
    "        data['Projection'].append(np.dot(_act, _place_minus_pred))\n",
    "        data['r'].append(r)\n",
    "        data['Mode'].append('Place')\n",
    "        \n",
    "        data['Projection'].append(np.dot(_act, _pred))\n",
    "        data['r'].append(r)\n",
    "        data['Mode'].append('Pred')\n",
    "\n",
    "        data['Projection'].append(np.dot(_act, _bar))\n",
    "        data['r'].append(r)\n",
    "        data['Mode'].append('Barcode')"
   ]
  },
  {
   "cell_type": "code",
   "execution_count": 8,
   "metadata": {},
   "outputs": [
    {
     "data": {
      "image/png": "[encoded data removed]",
      "text/plain": [
       "<Figure size 360x144 with 1 Axes>"
      ]
     },
     "metadata": {
      "needs_background": "light"
     },
     "output_type": "display_data"
    }
   ],
   "source": [
    "df = pd.DataFrame(data)\n",
    "df.loc[df['Mode'] =='Pred', 'Projection'] /= np.max(df.loc[df['Mode'] =='Pred', 'Projection'])\n",
    "df.loc[df['Mode'] =='Place', 'Projection'] /= np.max(df.loc[df['Mode'] =='Place', 'Projection'])\n",
    "df.loc[df['Mode'] =='Barcode', 'Projection'] /= np.max(df.loc[df['Mode'] =='Barcode', 'Projection'])\n",
    "plt.figure(figsize=(5,2))\n",
    "sns.lineplot(\n",
    "    x='r', y='Projection', hue='Mode',\n",
    "    data=df, palette=['C0', 'C1', 'C2'],\n",
    "    hue_order=['Place', 'Pred', 'Barcode'])\n",
    "plt.ylabel('Proportion\\nof Max')\n",
    "plt.tight_layout()\n",
    "plt.savefig('pred_rstrength.png', dpi=300)\n",
    "plt.show()"
   ]
  },
  {
   "cell_type": "code",
   "execution_count": 9,
   "metadata": {},
   "outputs": [
    {
     "data": {
      "image/png": "[encoded data removed]",
      "text/plain": [
       "<Figure size 360x144 with 1 Axes>"
      ]
     },
     "metadata": {
      "needs_background": "light"
     },
     "output_type": "display_data"
    }
   ],
   "source": [
    "df = pd.DataFrame(data)\n",
    "plt.figure(figsize=(5,2))\n",
    "sns.lineplot(\n",
    "    x='r', y='Projection', hue='Mode',\n",
    "    data=df,\n",
    ")\n",
    "plt.ylabel('Projection')\n",
    "plt.tight_layout()\n",
    "plt.savefig('pred_rstrength.png', dpi=300)\n",
    "plt.show()"
   ]
  },
  {
   "cell_type": "code",
   "execution_count": null,
   "metadata": {},
   "outputs": [],
   "source": []
  }
 ],
 "metadata": {
  "kernelspec": {
   "display_name": "Python 3",
   "language": "python",
   "name": "python3"
  },
  "language_info": {
   "codemirror_mode": {
    "name": "ipython",
    "version": 3
   },
   "file_extension": ".py",
   "mimetype": "text/x-python",
   "name": "python",
   "nbconvert_exporter": "python",
   "pygments_lexer": "ipython3",
   "version": "3.7.3"
  }
 },
 "nbformat": 4,
 "nbformat_minor": 5
}
