{
 "cells": [
  {
   "cell_type": "code",
   "execution_count": 1,
   "metadata": {},
   "outputs": [],
   "source": [
    "import numpy as np\n",
    "import matplotlib.pyplot as plt\n",
    "import numpy as np\n",
    "import seaborn as sns\n",
    "import pandas as pd\n",
    "from Model import Model\n",
    "from PlaceInputs import PlaceInputs\n",
    "from utils import *\n",
    "import configs\n",
    "import pickle"
   ]
  },
  {
   "cell_type": "code",
   "execution_count": 2,
   "metadata": {},
   "outputs": [],
   "source": [
    "np.random.seed(6)"
   ]
  },
  {
   "cell_type": "markdown",
   "metadata": {},
   "source": [
    "# Initialize RNN"
   ]
  },
  {
   "cell_type": "code",
   "execution_count": 3,
   "metadata": {},
   "outputs": [],
   "source": [
    "# Parameters\n",
    "N_inp = 5000\n",
    "N_bar = 5000\n",
    "num_states = 100"
   ]
  },
  {
   "cell_type": "code",
   "execution_count": 4,
   "metadata": {},
   "outputs": [],
   "source": [
    "place_inputs = PlaceInputs(N_inp, num_states).get_inputs()"
   ]
  },
  {
   "cell_type": "code",
   "execution_count": 5,
   "metadata": {},
   "outputs": [],
   "source": [
    "cache_state = 50"
   ]
  },
  {
   "cell_type": "code",
   "execution_count": 6,
   "metadata": {},
   "outputs": [],
   "source": [
    "cache_unit = (cache_state/num_states)*N_inp"
   ]
  },
  {
   "cell_type": "markdown",
   "metadata": {},
   "source": [
    "# Influencing recall via adjustment of predictive component"
   ]
  },
  {
   "cell_type": "code",
   "execution_count": 7,
   "metadata": {},
   "outputs": [],
   "source": [
    "model = Model(\n",
    "    N_inp, N_bar, num_states,\n",
    "    narrow_search_factor=0.5, wide_search_factor=1.5,\n",
    "    )\n",
    "unskewed_J = model.J_xx.copy()"
   ]
  },
  {
   "cell_type": "markdown",
   "metadata": {},
   "source": [
    "### Add predictive skew to RNN weights"
   ]
  },
  {
   "cell_type": "code",
   "execution_count": 8,
   "metadata": {},
   "outputs": [],
   "source": [
    "recalc_pred_delta = False\n",
    "\n",
    "# Last choice: 300 shifts, 0.99 gamma, delta scale 0.05, offset 0.01\n",
    "\n",
    "if recalc_pred_delta:\n",
    "    identity = np.eye(model.N_bar)\n",
    "    total_delta = np.zeros((model.N_bar, model.N_bar))\n",
    "    n_shifts = 300 #500 \n",
    "    gamma = 0.99\n",
    "    for s in range(1, n_shifts):\n",
    "        shifted = np.roll(identity, shift=-(s+1), axis=0)\n",
    "        delta = 0.05 * (gamma**s)*shifted\n",
    "        total_delta += delta\n",
    "    total_delta -= 0.01\n",
    "    with open('pickles/fig6_pred_matrix.p', 'wb') as f:\n",
    "        pickle.dump(total_delta, f)\n",
    "else:\n",
    "    with open('pickles/fig6_pred_matrix.p', 'rb') as f:\n",
    "        total_delta = pickle.load(f)"
   ]
  },
  {
   "cell_type": "code",
   "execution_count": 9,
   "metadata": {},
   "outputs": [],
   "source": [
    "w1 = 1.\n",
    "w2 = 1.5\n",
    "model.J_xx = (w1)*unskewed_J.copy() + (w2)*total_delta"
   ]
  },
  {
   "cell_type": "markdown",
   "metadata": {},
   "source": [
    "### Learning with skew"
   ]
  },
  {
   "cell_type": "code",
   "execution_count": 10,
   "metadata": {},
   "outputs": [
    {
     "name": "stdout",
     "output_type": "stream",
     "text": [
      "Now I just cached at location: 50\n"
     ]
    }
   ],
   "source": [
    "_, place_acts, _, _ = model.run_nonrecurrent(place_inputs)\n",
    "    \n",
    "print(\"Now I just cached at location:\", cache_state)\n",
    "preacts, acts, _, acts_over_time = model.run_recurrent(place_inputs)\n",
    "model.update(place_inputs[cache_state], acts[cache_state], preacts[cache_state])\n",
    "\n",
    "# 0 seed input\n",
    "_, _, outputs, _ = model.run_recall(0., place_inputs)\n",
    "_pred_readout = outputs[1].squeeze()\n",
    "_pred_readout = _pred_readout/_pred_readout.max()\n",
    "pred_readout = _pred_readout.copy()"
   ]
  },
  {
   "cell_type": "code",
   "execution_count": 15,
   "metadata": {},
   "outputs": [
    {
     "data": {
      "image/png": "[encoded data removed]",
      "text/plain": [
       "<Figure size 210x100 with 1 Axes>"
      ]
     },
     "metadata": {},
     "output_type": "display_data"
    }
   ],
   "source": [
    "plt.figure(figsize=(2.1,1.))\n",
    "plt.plot(_pred_readout, color='black')\n",
    "plt.xticks([cache_state], ['C'], fontsize=6)\n",
    "plt.ylabel('Seed Output')\n",
    "plt.xlabel('Current Place')\n",
    "plt.yticks([0,1], fontsize=6)\n",
    "plt.axvline(cache_state, color='gray', linestyle='--')\n",
    "plt.tight_layout()\n",
    "plt.savefig('figures/fig6g.svg', dpi=300, transparent=True)\n",
    "plt.show()"
   ]
  },
  {
   "cell_type": "code",
   "execution_count": null,
   "metadata": {},
   "outputs": [],
   "source": []
  }
 ],
 "metadata": {
  "kernelspec": {
   "display_name": "Python [conda env:.conda-auxrl]",
   "language": "python",
   "name": "conda-env-.conda-auxrl-py"
  },
  "language_info": {
   "codemirror_mode": {
    "name": "ipython",
    "version": 3
   },
   "file_extension": ".py",
   "mimetype": "text/x-python",
   "name": "python",
   "nbconvert_exporter": "python",
   "pygments_lexer": "ipython3",
   "version": "3.8.13"
  }
 },
 "nbformat": 4,
 "nbformat_minor": 5
}
