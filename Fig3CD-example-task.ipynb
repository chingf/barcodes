{
 "cells": [
  {
   "cell_type": "code",
   "execution_count": 43,
   "metadata": {},
   "outputs": [],
   "source": [
    "import numpy as np\n",
    "import matplotlib.pyplot as plt\n",
    "import numpy as np\n",
    "import seaborn as sns\n",
    "import pandas as pd\n",
    "\n",
    "from Model import Model\n",
    "from PlaceInputs import PlaceInputs\n",
    "from utils import *\n",
    "import configs"
   ]
  },
  {
   "cell_type": "markdown",
   "metadata": {},
   "source": [
    "# Parameters and Initialization"
   ]
  },
  {
   "cell_type": "code",
   "execution_count": 44,
   "metadata": {},
   "outputs": [],
   "source": [
    "# Parameters\n",
    "N_inp = 5000\n",
    "N_bar = 5000\n",
    "num_states = 100"
   ]
  },
  {
   "cell_type": "code",
   "execution_count": 61,
   "metadata": {},
   "outputs": [],
   "source": [
    "place_inputs = PlaceInputs(N_inp, num_states).get_inputs()\n",
    "model = Model(\n",
    "    N_inp, N_bar, num_states,\n",
    "    divisive_normalization=1\n",
    "    )"
   ]
  },
  {
   "cell_type": "code",
   "execution_count": 62,
   "metadata": {},
   "outputs": [],
   "source": [
    "cache_states = [20, 30, 70]"
   ]
  },
  {
   "cell_type": "markdown",
   "metadata": {},
   "source": [
    "# Example Narrow/Broad Recall"
   ]
  },
  {
   "cell_type": "code",
   "execution_count": 63,
   "metadata": {},
   "outputs": [],
   "source": [
    "def recall_plots(cache_identification, narrow_recall, wide_recall):\n",
    "    fig, ax = plt.subplots(\n",
    "        1, 3, figsize=(8,2.),\n",
    "        )\n",
    "    \n",
    "    # Identification plot\n",
    "    readout = np.linalg.norm(cache_identification, axis=1)\n",
    "    readout /= readout.max()\n",
    "    ax[0].plot(readout)\n",
    "    threshold=0.75\n",
    "    idxs = readout > threshold\n",
    "    y = readout[idxs]\n",
    "    y[y>0] = 1.05\n",
    "    ax[0].scatter(np.arange(100)[idxs], y, s=1, color='red')\n",
    "    ax[0].set_yticks([0, 0.50, 1.0])\n",
    "    ax[0].set_ylabel('Output Norm')\n",
    "    \n",
    "    # Narrow recall plot\n",
    "    reconstruct = narrow_recall\n",
    "    readout = np.linalg.norm(reconstruct, axis=1)\n",
    "    readout /= readout.max()\n",
    "    valid_recall = readout > 0.5\n",
    "    offset = reconstruct.std()/2\n",
    "    for idx, validity in enumerate(valid_recall):\n",
    "        if not validity: continue\n",
    "        r = reconstruct[idx]\n",
    "        ax[1].plot(np.arange(r.size), r-offset*idx, color='black', linewidth=0.5)\n",
    "    ax[1].set_yticks([0, -offset*(num_states//2), -offset*(num_states)], [0, '$\\pi$', '$2\\pi$'])\n",
    "    \n",
    "    # Wide recall plot\n",
    "    reconstruct = wide_recall\n",
    "    readout = np.linalg.norm(reconstruct, axis=1)\n",
    "    readout /= readout.max()\n",
    "    valid_recall = readout > 0.5\n",
    "    offset = reconstruct.std()/2\n",
    "    for idx, validity in enumerate(valid_recall):\n",
    "        if not validity: continue\n",
    "        r = reconstruct[idx]\n",
    "        ax[2].plot(np.arange(r.size), r-offset*idx, color='black', linewidth=0.5)\n",
    "        \n",
    "    ax[1].set_ylabel('Location')\n",
    "    ax[2].set_ylabel('')\n",
    "    ax[2].set_yticks([])\n",
    "    for _ax in [ax[0]]: # For cache identification\n",
    "        xtick_loc = []; xtick_label = [];\n",
    "        for i, c in enumerate(cache_states[:c_idx+1]):\n",
    "            xtick_loc.append(c)\n",
    "            xtick_label.append(f'C{i+1}')\n",
    "    for _ax in ax[1:]: # For recalled place fields\n",
    "        xtick_loc = []; xtick_label = [];\n",
    "        for i, c in enumerate(cache_states[:c_idx+1]):\n",
    "            xtick_loc.append((c/num_states)*N_bar)\n",
    "            xtick_label.append(f'C{i+1}')\n",
    "    try: # Only compatible with updated version of Matplotlib\n",
    "        ax[0].set_xticks(xtick_loc, xtick_label, rotation=45, color='red', fontsize=10)\n",
    "        ax[1].set_xticks(xtick_loc, xtick_label, rotation=45, color='red', fontsize=10)\n",
    "        ax[2].set_xticks(xtick_loc, xtick_label, rotation=45, color='red', fontsize=10)\n",
    "    except:\n",
    "        pass\n",
    "    plt.tight_layout()\n",
    "    plt.show()"
   ]
  },
  {
   "cell_type": "code",
   "execution_count": 64,
   "metadata": {
    "scrolled": false
   },
   "outputs": [
    {
     "name": "stdout",
     "output_type": "stream",
     "text": [
      "Now I just cached at location: 20\n"
     ]
    },
    {
     "name": "stderr",
     "output_type": "stream",
     "text": [
      "/share/apps/anaconda3-2019.03/lib/python3.7/site-packages/ipykernel_launcher.py:11: RuntimeWarning: invalid value encountered in greater\n",
      "  # This is added back by InteractiveShellApp.init_path()\n",
      "/share/apps/anaconda3-2019.03/lib/python3.7/site-packages/ipykernel_launcher.py:22: RuntimeWarning: invalid value encountered in greater\n",
      "/share/apps/anaconda3-2019.03/lib/python3.7/site-packages/ipykernel_launcher.py:34: RuntimeWarning: invalid value encountered in greater\n"
     ]
    },
    {
     "data": {
      "image/png": "[encoded data removed]",
      "text/plain": [
       "<Figure size 576x144 with 3 Axes>"
      ]
     },
     "metadata": {
      "needs_background": "light"
     },
     "output_type": "display_data"
    },
    {
     "name": "stdout",
     "output_type": "stream",
     "text": [
      "Now I just cached at location: 30\n"
     ]
    },
    {
     "data": {
      "image/png": "[encoded data removed]",
      "text/plain": [
       "<Figure size 576x144 with 3 Axes>"
      ]
     },
     "metadata": {
      "needs_background": "light"
     },
     "output_type": "display_data"
    },
    {
     "name": "stdout",
     "output_type": "stream",
     "text": [
      "Now I just cached at location: 70\n"
     ]
    },
    {
     "data": {
      "image/png": "[encoded data removed]",
      "text/plain": [
       "<Figure size 576x144 with 3 Axes>"
      ]
     },
     "metadata": {
      "needs_background": "light"
     },
     "output_type": "display_data"
    }
   ],
   "source": [
    "model.reset()\n",
    "\n",
    "cache_identification = []\n",
    "narrow_recall = []\n",
    "wide_recall = []\n",
    "\n",
    "for c_idx, cache_state in enumerate(cache_states):\n",
    "    \n",
    "    print(\"Now I just cached at location:\", cache_state)\n",
    "    preacts, acts, _, acts_over_time = model.run_recurrent(place_inputs, n_zero_input=20)\n",
    "    model.update(place_inputs[cache_state], acts[cache_state], preacts[cache_state])\n",
    "\n",
    "    _, _, _cache_identification, _ = model.run_recall(0.4, place_inputs)\n",
    "    cache_identification.append(_cache_identification.copy())\n",
    "    \n",
    "    _, _, _narrow_recall, _ = model.run_narrow_recall(place_inputs)\n",
    "    narrow_recall.append(_narrow_recall.copy())\n",
    "    \n",
    "    _, _, _wide_recall, _ = model.run_wide_recall(place_inputs)\n",
    "    wide_recall.append(_wide_recall.copy())\n",
    "\n",
    "    recall_plots(_cache_identification, _narrow_recall, _wide_recall)"
   ]
  },
  {
   "cell_type": "code",
   "execution_count": null,
   "metadata": {},
   "outputs": [],
   "source": []
  }
 ],
 "metadata": {
  "kernelspec": {
   "display_name": "Python 3",
   "language": "python",
   "name": "python3"
  },
  "language_info": {
   "codemirror_mode": {
    "name": "ipython",
    "version": 3
   },
   "file_extension": ".py",
   "mimetype": "text/x-python",
   "name": "python",
   "nbconvert_exporter": "python",
   "pygments_lexer": "ipython3",
   "version": "3.7.3"
  }
 },
 "nbformat": 4,
 "nbformat_minor": 5
}
