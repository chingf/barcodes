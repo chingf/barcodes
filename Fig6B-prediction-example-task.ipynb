{
 "cells": [
  {
   "cell_type": "code",
   "execution_count": 1,
   "metadata": {},
   "outputs": [],
   "source": [
    "import numpy as np\n",
    "import matplotlib.pyplot as plt\n",
    "import numpy as np\n",
    "import seaborn as sns\n",
    "import pandas as pd\n",
    "from Model import Model\n",
    "from PlaceInputs import PlaceInputs\n",
    "from utils import *\n",
    "import configs\n",
    "from utils_plotting import recall_plots\n",
    "import pickle"
   ]
  },
  {
   "cell_type": "code",
   "execution_count": 2,
   "metadata": {},
   "outputs": [],
   "source": [
    "np.random.seed(4)"
   ]
  },
  {
   "cell_type": "markdown",
   "metadata": {},
   "source": [
    "# Initialize RNN"
   ]
  },
  {
   "cell_type": "code",
   "execution_count": 3,
   "metadata": {},
   "outputs": [],
   "source": [
    "# Parameters\n",
    "N_inp = 5000\n",
    "N_bar = 5000\n",
    "num_states = 100"
   ]
  },
  {
   "cell_type": "code",
   "execution_count": 4,
   "metadata": {},
   "outputs": [],
   "source": [
    "place_inputs = PlaceInputs(N_inp, num_states).get_inputs()\n",
    "model = Model(\n",
    "    N_inp, N_bar, num_states,\n",
    "    narrow_search_factor=0.5, wide_search_factor=1.5,\n",
    "    )\n",
    "original_J_xx = model.J_xx.copy()"
   ]
  },
  {
   "cell_type": "code",
   "execution_count": 5,
   "metadata": {},
   "outputs": [],
   "source": [
    "cache_states = [20, 35, 70]"
   ]
  },
  {
   "cell_type": "markdown",
   "metadata": {},
   "source": [
    "# Add predictive skew to RNN weights"
   ]
  },
  {
   "cell_type": "code",
   "execution_count": 6,
   "metadata": {},
   "outputs": [
    {
     "data": {
      "image/png": "[encoded data removed]",
      "text/plain": [
       "<Figure size 126x108 with 2 Axes>"
      ]
     },
     "metadata": {
      "needs_background": "light"
     },
     "output_type": "display_data"
    }
   ],
   "source": [
    "plt.figure(figsize=(1.75, 1.5))\n",
    "original_J_xx = model.J_xx.copy()\n",
    "plt.imshow(original_J_xx, aspect='auto')\n",
    "plt.colorbar()\n",
    "plt.title(r'Initial $J_{xx}$')\n",
    "plt.xlabel('Post')\n",
    "plt.ylabel('Pre')\n",
    "plt.xticks([]); plt.yticks([])\n",
    "plt.tight_layout()\n",
    "plt.show()"
   ]
  },
  {
   "cell_type": "code",
   "execution_count": 7,
   "metadata": {},
   "outputs": [],
   "source": [
    "with open('fig6_pred_matrix.p', 'rb') as f:\n",
    "        total_delta = pickle.load(f)\n",
    "        \n",
    "model.reset()\n",
    "w1 = 1.25\n",
    "w2 = 1.5\n",
    "model.J_xx = (w1)*original_J_xx.copy() + (w2)*total_delta"
   ]
  },
  {
   "cell_type": "code",
   "execution_count": 14,
   "metadata": {},
   "outputs": [
    {
     "data": {
      "image/png": "[encoded data removed]",
      "text/plain": [
       "<Figure size 126x108 with 2 Axes>"
      ]
     },
     "metadata": {
      "needs_background": "light"
     },
     "output_type": "display_data"
    }
   ],
   "source": [
    "plt.figure(figsize=(1.75, 1.5))\n",
    "plt.imshow(total_delta, aspect='auto')\n",
    "plt.colorbar()\n",
    "plt.title(r'Added to $J_{xx}$')\n",
    "plt.xlabel('Post')\n",
    "plt.ylabel('Pre')\n",
    "plt.xticks([]); plt.yticks([])\n",
    "plt.tight_layout()\n",
    "plt.savefig('figures/fig6sa.png', dpi=300)\n",
    "plt.show()"
   ]
  },
  {
   "cell_type": "code",
   "execution_count": 13,
   "metadata": {},
   "outputs": [
    {
     "data": {
      "image/png": "[encoded data removed]",
      "text/plain": [
       "<Figure size 126x108 with 2 Axes>"
      ]
     },
     "metadata": {
      "needs_background": "light"
     },
     "output_type": "display_data"
    }
   ],
   "source": [
    "plt.figure(figsize=(1.75, 1.5))\n",
    "plt.imshow(total_delta[:int(N_bar*0.1), :int(N_bar*0.1)], aspect='auto')\n",
    "plt.colorbar()\n",
    "plt.title(r'Added to $J_{xx}$ (zoomed 10x)')\n",
    "plt.xlabel('Post')\n",
    "plt.ylabel('Pre')\n",
    "plt.xticks([]); plt.yticks([])\n",
    "plt.tight_layout()\n",
    "plt.savefig('figures/fig6sb.png', dpi=300)\n",
    "plt.show()"
   ]
  },
  {
   "cell_type": "markdown",
   "metadata": {},
   "source": [
    "# RNN activity under different recurrent strengths\n",
    "(Black line indicates the identity line)"
   ]
  },
  {
   "cell_type": "markdown",
   "metadata": {},
   "source": [
    "#### $r=0$"
   ]
  },
  {
   "cell_type": "code",
   "execution_count": 9,
   "metadata": {},
   "outputs": [],
   "source": [
    "_, acts0, _, _ = model.run_recurrent(place_inputs, rec_strength=0., seed_steps=0)"
   ]
  },
  {
   "cell_type": "code",
   "execution_count": 10,
   "metadata": {},
   "outputs": [
    {
     "data": {
      "image/png": "[encoded data removed]",
      "text/plain": [
       "<Figure size 126x126 with 1 Axes>"
      ]
     },
     "metadata": {},
     "output_type": "display_data"
    }
   ],
   "source": [
    "plt.figure(figsize=(1.75, 1.75))\n",
    "plt.imshow(acts0, aspect='auto', vmin=0, vmax=1)\n",
    "plt.plot([0,N_bar-1], [0,num_states-1], color='black', linestyle='--')\n",
    "plt.xlabel('Neurons')\n",
    "plt.ylabel('Sites')\n",
    "plt.xticks([]); plt.yticks([])\n",
    "plt.title(f\"Visit Activity ($r=0$)\")\n",
    "plt.tight_layout()\n",
    "plt.show()"
   ]
  },
  {
   "cell_type": "markdown",
   "metadata": {},
   "source": [
    "#### $r=0.3$"
   ]
  },
  {
   "cell_type": "code",
   "execution_count": 11,
   "metadata": {},
   "outputs": [],
   "source": [
    "_, acts03, _, _ = model.run_recurrent(place_inputs, rec_strength=0.3, seed_steps=0)"
   ]
  },
  {
   "cell_type": "code",
   "execution_count": null,
   "metadata": {},
   "outputs": [],
   "source": [
    "plt.figure(figsize=(1.75, 1.75))\n",
    "plt.imshow(acts03, aspect='auto')\n",
    "plt.plot([0,N_bar-1], [0,num_states-1], color='white', linestyle='--')\n",
    "plt.xlabel('Neurons')\n",
    "plt.ylabel('States')\n",
    "plt.title(f\"Predictive Activity ($r=0.3$)\")\n",
    "plt.xticks([]); plt.yticks([])\n",
    "plt.tight_layout()\n",
    "plt.show()"
   ]
  },
  {
   "cell_type": "markdown",
   "metadata": {},
   "source": [
    "#### $r=1.0$"
   ]
  },
  {
   "cell_type": "code",
   "execution_count": 13,
   "metadata": {},
   "outputs": [],
   "source": [
    "_, acts1, _, _ = model.run_recurrent(place_inputs, rec_strength=1.0, seed_steps=0)"
   ]
  },
  {
   "cell_type": "code",
   "execution_count": 14,
   "metadata": {},
   "outputs": [
    {
     "data": {
      "image/png": "[encoded data removed]",
      "text/plain": [
       "<Figure size 108x126 with 1 Axes>"
      ]
     },
     "metadata": {},
     "output_type": "display_data"
    }
   ],
   "source": [
    "plt.figure(figsize=(1.5, 1.75))\n",
    "plt.imshow(acts1, aspect='auto')\n",
    "plt.plot([0,N_bar-1], [0,num_states-1], color='white', linestyle='--')\n",
    "plt.xlabel('Neurons')\n",
    "plt.ylabel('States')\n",
    "plt.title(f\"Cache Activity ($r=1.0$)\")\n",
    "plt.xticks([]); plt.yticks([])\n",
    "plt.tight_layout()\n",
    "plt.show()"
   ]
  },
  {
   "cell_type": "markdown",
   "metadata": {},
   "source": [
    "# Subsampled"
   ]
  },
  {
   "cell_type": "code",
   "execution_count": 15,
   "metadata": {},
   "outputs": [
    {
     "data": {
      "image/png": "[encoded data removed]",
      "text/plain": [
       "<Figure size 126x126 with 1 Axes>"
      ]
     },
     "metadata": {
      "needs_background": "light"
     },
     "output_type": "display_data"
    },
    {
     "name": "stdout",
     "output_type": "stream",
     "text": [
      "0.8647341035889826\n"
     ]
    }
   ],
   "source": [
    "p = 0.4\n",
    "plt.figure(figsize=(1.75, 1.75))\n",
    "plt.imshow(acts0[:int(num_states*p), :int(N_bar*p)], aspect='auto')\n",
    "plt.plot([0,int(N_bar*p)-1], [0,int(num_states*p)-1], color='black', linestyle='--')\n",
    "plt.xlabel('Neurons')\n",
    "plt.xticks([])\n",
    "plt.ylabel('Sites')\n",
    "plt.yticks([0, 30*p, 60*p, 90*p], [0, 3, 6, 9])\n",
    "plt.title(f\"Visit Activity ($r=0$)\")\n",
    "plt.tight_layout()\n",
    "plt.savefig('figures/fig6b.png', dpi=300, transparent=True)\n",
    "plt.show()\n",
    "print(acts0.max())"
   ]
  },
  {
   "cell_type": "code",
   "execution_count": 16,
   "metadata": {},
   "outputs": [
    {
     "data": {
      "image/png": "[encoded data removed]",
      "text/plain": [
       "<Figure size 126x126 with 1 Axes>"
      ]
     },
     "metadata": {
      "needs_background": "light"
     },
     "output_type": "display_data"
    },
    {
     "name": "stdout",
     "output_type": "stream",
     "text": [
      "2.875744832655538\n"
     ]
    }
   ],
   "source": [
    "p = 0.4\n",
    "plt.figure(figsize=(1.75, 1.75))\n",
    "plt.imshow(acts03[:int(num_states*p), :int(N_bar*p)], aspect='auto')\n",
    "plt.plot([0,int(N_bar*p)-1], [0,int(num_states*p)-1], color='white', linestyle='--')\n",
    "plt.xlabel('Neurons')\n",
    "plt.xticks([])\n",
    "plt.ylabel('Sites')\n",
    "plt.yticks([0, 30*p, 60*p, 90*p], [0, 3, 6, 9])\n",
    "plt.title(f\"Predictive Activity ($r=0.3$)\")\n",
    "plt.tight_layout()\n",
    "plt.savefig('figures/fig6c.png', dpi=300, transparent=True)\n",
    "plt.show()\n",
    "print(acts03.max())"
   ]
  },
  {
   "cell_type": "code",
   "execution_count": 17,
   "metadata": {},
   "outputs": [
    {
     "data": {
      "image/png": "[encoded data removed]",
      "text/plain": [
       "<Figure size 126x126 with 1 Axes>"
      ]
     },
     "metadata": {
      "needs_background": "light"
     },
     "output_type": "display_data"
    },
    {
     "name": "stdout",
     "output_type": "stream",
     "text": [
      "9.66198019728624\n"
     ]
    }
   ],
   "source": [
    "p = 0.4\n",
    "subsample = acts1[:int(num_states*p), :int(N_bar*p)]\n",
    "plt.figure(figsize=(1.75, 1.75))\n",
    "plt.imshow(\n",
    "    subsample, aspect='auto',\n",
    "    vmax=np.percentile(subsample, 99.7)\n",
    "    )\n",
    "plt.plot([0,int(N_bar*p)-1], [0,int(num_states*p)-1], color='white', linestyle='--')\n",
    "plt.xlabel('Neurons')\n",
    "plt.xticks([])\n",
    "plt.ylabel('Sites')\n",
    "plt.yticks([0, 30*p, 60*p, 90*p], [0, 3, 6, 9])\n",
    "plt.title(f\"Cache Activity ($r=1.0$)\")\n",
    "plt.tight_layout()\n",
    "plt.savefig('figures/fig6d.png', dpi=300, transparent=True)\n",
    "plt.show()\n",
    "print(acts1.max())"
   ]
  },
  {
   "cell_type": "markdown",
   "metadata": {},
   "source": [
    "# Running learning +  narrow/broad Recall"
   ]
  },
  {
   "cell_type": "code",
   "execution_count": 18,
   "metadata": {},
   "outputs": [],
   "source": [
    "identification_s = 0.0"
   ]
  },
  {
   "cell_type": "code",
   "execution_count": 19,
   "metadata": {
    "scrolled": true
   },
   "outputs": [
    {
     "name": "stdout",
     "output_type": "stream",
     "text": [
      "Now I just cached at location: 20\n"
     ]
    },
    {
     "data": {
      "image/png": "[encoded data removed]",
      "text/plain": [
       "<Figure size 162x108 with 1 Axes>"
      ]
     },
     "metadata": {
      "needs_background": "light"
     },
     "output_type": "display_data"
    },
    {
     "data": {
      "image/png": "[encoded data removed]",
      "text/plain": [
       "<Figure size 108x108 with 1 Axes>"
      ]
     },
     "metadata": {
      "needs_background": "light"
     },
     "output_type": "display_data"
    },
    {
     "data": {
      "image/png": "[encoded data removed]",
      "text/plain": [
       "<Figure size 108x108 with 1 Axes>"
      ]
     },
     "metadata": {
      "needs_background": "light"
     },
     "output_type": "display_data"
    },
    {
     "name": "stdout",
     "output_type": "stream",
     "text": [
      "Now I just cached at location: 35\n"
     ]
    },
    {
     "data": {
      "image/png": "[encoded data removed]",
      "text/plain": [
       "<Figure size 162x108 with 1 Axes>"
      ]
     },
     "metadata": {
      "needs_background": "light"
     },
     "output_type": "display_data"
    },
    {
     "data": {
      "image/png": "[encoded data removed]",
      "text/plain": [
       "<Figure size 108x108 with 1 Axes>"
      ]
     },
     "metadata": {
      "needs_background": "light"
     },
     "output_type": "display_data"
    },
    {
     "data": {
      "image/png": "[encoded data removed]",
      "text/plain": [
       "<Figure size 108x108 with 1 Axes>"
      ]
     },
     "metadata": {
      "needs_background": "light"
     },
     "output_type": "display_data"
    },
    {
     "name": "stdout",
     "output_type": "stream",
     "text": [
      "Now I just cached at location: 70\n"
     ]
    },
    {
     "data": {
      "image/png": "[encoded data removed]",
      "text/plain": [
       "<Figure size 162x108 with 1 Axes>"
      ]
     },
     "metadata": {
      "needs_background": "light"
     },
     "output_type": "display_data"
    },
    {
     "data": {
      "image/png": "[encoded data removed]",
      "text/plain": [
       "<Figure size 108x108 with 1 Axes>"
      ]
     },
     "metadata": {
      "needs_background": "light"
     },
     "output_type": "display_data"
    },
    {
     "data": {
      "image/png": "[encoded data removed]",
      "text/plain": [
       "<Figure size 108x108 with 1 Axes>"
      ]
     },
     "metadata": {
      "needs_background": "light"
     },
     "output_type": "display_data"
    }
   ],
   "source": [
    "cache_identification = []\n",
    "narrow_recall = []\n",
    "wide_recall = []\n",
    "model.reset()\n",
    "\n",
    "for c_idx, cache_state in enumerate(cache_states):\n",
    "    \n",
    "    print(\"Now I just cached at location:\", cache_state)\n",
    "    preacts, acts, _, acts_over_time = model.run_recurrent(place_inputs, n_zero_input=20)\n",
    "    model.update(place_inputs[cache_state], acts[cache_state], preacts[cache_state])\n",
    "\n",
    "    _, _, outputs, _ = model.run_recall(identification_s, place_inputs)\n",
    "    _cache_identification = outputs[1].squeeze()\n",
    "    cache_identification.append(_cache_identification.copy())\n",
    "    \n",
    "    _, _, outputs, _ = model.run_recall(identification_s, place_inputs)\n",
    "    _narrow_recall = relu(outputs[0])\n",
    "    narrow_recall.append(_narrow_recall.copy())\n",
    "    \n",
    "    _, _, outputs, _ = model.run_wide_recall(place_inputs)\n",
    "    _wide_recall = relu(outputs[0])\n",
    "    wide_recall.append(_wide_recall.copy())\n",
    "\n",
    "    recall_plots(_cache_identification, _narrow_recall, _wide_recall, cache_states[:c_idx+1])"
   ]
  },
  {
   "cell_type": "code",
   "execution_count": null,
   "metadata": {},
   "outputs": [],
   "source": []
  }
 ],
 "metadata": {
  "kernelspec": {
   "display_name": "Python 3",
   "language": "python",
   "name": "python3"
  },
  "language_info": {
   "codemirror_mode": {
    "name": "ipython",
    "version": 3
   },
   "file_extension": ".py",
   "mimetype": "text/x-python",
   "name": "python",
   "nbconvert_exporter": "python",
   "pygments_lexer": "ipython3",
   "version": "3.7.3"
  }
 },
 "nbformat": 4,
 "nbformat_minor": 5
}
