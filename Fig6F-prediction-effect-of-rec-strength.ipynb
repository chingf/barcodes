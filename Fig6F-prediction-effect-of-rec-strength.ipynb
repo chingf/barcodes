{
 "cells": [
  {
   "cell_type": "code",
   "execution_count": 1,
   "metadata": {},
   "outputs": [],
   "source": [
    "import numpy as np\n",
    "import matplotlib.pyplot as plt\n",
    "import numpy as np\n",
    "import seaborn as sns\n",
    "import pandas as pd\n",
    "from Model import Model\n",
    "from PlaceInputs import PlaceInputs\n",
    "from utils import *\n",
    "import configs\n",
    "import pickle"
   ]
  },
  {
   "cell_type": "code",
   "execution_count": 2,
   "metadata": {},
   "outputs": [],
   "source": [
    "np.random.seed(4)"
   ]
  },
  {
   "cell_type": "markdown",
   "metadata": {},
   "source": [
    "# Initialize RNN"
   ]
  },
  {
   "cell_type": "code",
   "execution_count": 3,
   "metadata": {},
   "outputs": [],
   "source": [
    "# Parameters\n",
    "N_inp = 5000\n",
    "N_bar = 5000\n",
    "num_states = 100"
   ]
  },
  {
   "cell_type": "code",
   "execution_count": 4,
   "metadata": {},
   "outputs": [],
   "source": [
    "place_inputs = PlaceInputs(N_inp, num_states).get_inputs()\n",
    "model = Model(\n",
    "    N_inp, N_bar, num_states,\n",
    "    narrow_search_factor=0.5, wide_search_factor=1.5,\n",
    "    )"
   ]
  },
  {
   "cell_type": "code",
   "execution_count": 5,
   "metadata": {},
   "outputs": [],
   "source": [
    "_, place_acts, _, _ = model.run_nonrecurrent(place_inputs)"
   ]
  },
  {
   "cell_type": "markdown",
   "metadata": {},
   "source": [
    "# Add predictive skew to RNN weights"
   ]
  },
  {
   "cell_type": "code",
   "execution_count": 6,
   "metadata": {},
   "outputs": [],
   "source": [
    "recalc_pred_delta = False\n",
    "with open('pickles/fig6_pred_matrix.p', 'rb') as f:\n",
    "        total_delta = pickle.load(f)\n",
    "        \n",
    "model.reset()\n",
    "w1 = 1.25\n",
    "w2 = 1.5\n",
    "model.J_xx = (w1)*model.J_xx.copy() + (w2)*total_delta"
   ]
  },
  {
   "cell_type": "code",
   "execution_count": 7,
   "metadata": {},
   "outputs": [],
   "source": [
    "_, cache_acts, _, _ = model.run_recurrent(place_inputs, rec_strength=1.0, seed_steps=0)"
   ]
  },
  {
   "cell_type": "markdown",
   "metadata": {},
   "source": [
    "# Get projections for each value of r"
   ]
  },
  {
   "cell_type": "code",
   "execution_count": 8,
   "metadata": {},
   "outputs": [],
   "source": [
    "data = {\n",
    "    'Projection': [],\n",
    "    'r': [],\n",
    "    'Mode': []\n",
    "    }\n",
    "for r in np.arange(0, 1.1, 0.1):\n",
    "    _, acts, _, _ = model.run_recurrent(place_inputs, rec_strength=r, seed_steps=0)\n",
    "    \n",
    "    for row in range(acts.shape[0]):\n",
    "        _act = acts[row].copy()\n",
    "        _act = _act - _act.mean()\n",
    "        _act = _act/np.linalg.norm(_act)\n",
    "        \n",
    "        _place = place_acts[row] / np.linalg.norm(place_acts[row])\n",
    "        _cache = cache_acts[row]\n",
    "        _bar = _cache - np.dot(_cache, _place) * _place\n",
    "        _bar = _bar/np.linalg.norm(_bar)\n",
    "        _pred = place_acts[(row+1)%num_states]\n",
    "        _pred = _pred - np.dot(_pred, _place) * _place\n",
    "        _pred = _pred/np.linalg.norm(_pred)\n",
    "        _place_minus_pred = place_acts[row] - np.dot(place_acts[row], _pred) * _pred\n",
    "        _place_minus_pred = _place_minus_pred/np.linalg.norm(_place_minus_pred)\n",
    "\n",
    "        data['Projection'].append(np.dot(_act, _place))#_minus_pred))\n",
    "        data['r'].append(r)\n",
    "        data['Mode'].append('Place')\n",
    "        \n",
    "        data['Projection'].append(np.dot(_act, _pred))\n",
    "        data['r'].append(r)\n",
    "        data['Mode'].append('Pred')\n",
    "\n",
    "        data['Projection'].append(np.dot(_act, _bar))\n",
    "        data['r'].append(r)\n",
    "        data['Mode'].append('Barcode')"
   ]
  },
  {
   "cell_type": "code",
   "execution_count": 9,
   "metadata": {},
   "outputs": [
    {
     "data": {
      "image/png": "[encoded data removed]",
      "text/plain": [
       "<Figure size 210x125 with 1 Axes>"
      ]
     },
     "metadata": {},
     "output_type": "display_data"
    }
   ],
   "source": [
    "df = pd.DataFrame(data)\n",
    "df.loc[df['Mode'] =='Pred', 'Projection'] /= np.max(df.loc[df['Mode'] =='Pred', 'Projection'])\n",
    "df.loc[df['Mode'] =='Place', 'Projection'] /= np.max(df.loc[df['Mode'] =='Place', 'Projection'])\n",
    "df.loc[df['Mode'] =='Barcode', 'Projection'] /= np.max(df.loc[df['Mode'] =='Barcode', 'Projection'])\n",
    "plt.figure(figsize=(2.1, 1.25))\n",
    "sns.lineplot(\n",
    "    x='r', y='Projection', hue='Mode',\n",
    "    data=df, palette=['C0', 'C1', 'purple'],\n",
    "    hue_order=['Place', 'Pred', 'Barcode'])\n",
    "plt.ylabel('Prop. of Max')\n",
    "plt.xlabel(r'$r$')\n",
    "plt.xticks([0.0, 0.5, 1.0], fontsize=6)\n",
    "plt.yticks([0, 1], fontsize=6)\n",
    "plt.gca().legend().remove()\n",
    "plt.tight_layout()\n",
    "plt.savefig('figures/fig6f.svg', dpi=300)\n",
    "plt.show()"
   ]
  },
  {
   "cell_type": "code",
   "execution_count": null,
   "metadata": {},
   "outputs": [],
   "source": []
  }
 ],
 "metadata": {
  "kernelspec": {
   "display_name": "Python [conda env:.conda-auxrl]",
   "language": "python",
   "name": "conda-env-.conda-auxrl-py"
  },
  "language_info": {
   "codemirror_mode": {
    "name": "ipython",
    "version": 3
   },
   "file_extension": ".py",
   "mimetype": "text/x-python",
   "name": "python",
   "nbconvert_exporter": "python",
   "pygments_lexer": "ipython3",
   "version": "3.8.13"
  }
 },
 "nbformat": 4,
 "nbformat_minor": 5
}
