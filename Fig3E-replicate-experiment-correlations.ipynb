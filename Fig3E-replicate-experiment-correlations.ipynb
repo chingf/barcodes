{
 "cells": [
  {
   "cell_type": "code",
   "execution_count": 1,
   "metadata": {},
   "outputs": [],
   "source": [
    "import numpy as np\n",
    "import matplotlib.pyplot as plt\n",
    "import numpy as np\n",
    "from scipy.stats import poisson, nbinom\n",
    "import seaborn as sns\n",
    "import pandas as pd\n",
    "import pickle\n",
    "\n",
    "from Model import Model\n",
    "from PlaceInputs import PlaceInputs\n",
    "from utils import *\n",
    "import configs\n",
    "from configs import states_per_site"
   ]
  },
  {
   "cell_type": "markdown",
   "metadata": {},
   "source": [
    "# Parameters and Initialization"
   ]
  },
  {
   "cell_type": "code",
   "execution_count": 2,
   "metadata": {},
   "outputs": [],
   "source": [
    "np.random.seed(0)"
   ]
  },
  {
   "cell_type": "code",
   "execution_count": 3,
   "metadata": {},
   "outputs": [],
   "source": [
    "# Parameters\n",
    "N_inp = 5000\n",
    "N_bar = 5000\n",
    "num_states = 100\n",
    "steps = 100\n",
    "load = True"
   ]
  },
  {
   "cell_type": "code",
   "execution_count": 4,
   "metadata": {},
   "outputs": [],
   "source": [
    "place_inputs = PlaceInputs(N_inp, num_states).get_inputs()\n",
    "std_scaling=1.\n",
    "mu_scaling=0.2"
   ]
  },
  {
   "cell_type": "code",
   "execution_count": 5,
   "metadata": {},
   "outputs": [],
   "source": [
    "def nb(mu, std_scaling=std_scaling, mu_scaling=mu_scaling):\n",
    "    \"\"\" mu is a vector of firing rates. std_scaling is a scalar. \"\"\"\n",
    "\n",
    "\n",
    "    mu = mu*mu_scaling + 1E-8\n",
    "    std = std_scaling * np.sqrt(mu)\n",
    "    std += 1E-8\n",
    "    n = (mu**2)/(std**2 - mu)\n",
    "    p = mu/(std**2)\n",
    "    try:\n",
    "        nb_mu = nbinom.rvs(n, p)\n",
    "    except:\n",
    "        print(n)\n",
    "        print(p)\n",
    "        import pdb; pdb.set_trace()\n",
    "    return nb_mu.astype(float)\n",
    "\n",
    "\n",
    "def nb_corr(a, b):\n",
    "    nb_a = nb(a)\n",
    "    nb_b = nb(b)\n",
    "    return np.corrcoef(nb_a, nb_b)[0, 1]"
   ]
  },
  {
   "cell_type": "markdown",
   "metadata": {},
   "source": [
    "# Run Task (with learning)"
   ]
  },
  {
   "cell_type": "code",
   "execution_count": 6,
   "metadata": {},
   "outputs": [],
   "source": [
    "def run():\n",
    "    # Set up\n",
    "    model = Model(N_inp, N_bar, num_states, steps=steps)\n",
    "    site_locations = np.arange(0, 100, states_per_site)\n",
    "    cache_states = np.random.choice(site_locations, 3)\n",
    "    model.reset()\n",
    "    cache_acts = []\n",
    "\n",
    "    # Run learning\n",
    "    for cache_state in cache_states:\n",
    "        print(\"Now I just cached at location:\", cache_state)\n",
    "        preacts, acts, _, acts_over_time = model.run_recurrent(place_inputs)\n",
    "        model.update(place_inputs[cache_state], acts[cache_state], preacts[cache_state])\n",
    "        cache_acts.append(acts_over_time[-1, cache_state].copy())\n",
    "\n",
    "    # Get retrieval activation\n",
    "    _, _, output, retrieval_acts_over_time = model.run_recall(0., place_inputs)\n",
    "    retrieval_acts = retrieval_acts_over_time[-1]\n",
    "\n",
    "    # Place activity\n",
    "    _, place_acts, _, _ = model.run_nonrecurrent(place_inputs)\n",
    "    place_mean = np.mean(place_acts, axis=0).flatten()\n",
    "    place_std = np.std(place_acts, axis=0).flatten()\n",
    "\n",
    "    # Cache activity\n",
    "    cache_acts = np.array(cache_acts)\n",
    "    \n",
    "    # If anything with NaNs, skip\n",
    "    if np.any(np.isnan(cache_acts)):\n",
    "        return None, None\n",
    "    if np.any(np.isnan(retrieval_acts)):\n",
    "        return None, None\n",
    "    if np.any(np.isnan(place_acts)):\n",
    "        return None, None\n",
    "\n",
    "    # Collect data\n",
    "    cache_cache_corr = {'Distance': [], 'Correlation': []}\n",
    "    cache_visit_corr = {'Distance': [], 'Correlation': []}\n",
    "    visit_visit_corr = {'Distance': [], 'Correlation': []}\n",
    "    cache_retrieval_corr = {'Distance': [], 'Correlation': []}\n",
    "\n",
    "    for i in range(len(cache_states)):\n",
    "        for j in range(i, len(cache_states)):\n",
    "            _distance = distance(cache_states[i], cache_states[j], num_states)\n",
    "\n",
    "            cache_act_i = cache_acts[i].copy()\n",
    "            cache_act_j = cache_acts[j].copy()\n",
    "            retrieval_act_j = retrieval_acts[cache_states[j]].copy()\n",
    "            place_act_i = place_acts[cache_states[i]].copy()\n",
    "            place_act_j = place_acts[cache_states[j]].copy()\n",
    "\n",
    "            for _ in range(3): # More samples\n",
    "                c_c_corr = nb_corr(cache_act_i, cache_act_j)\n",
    "                c_v_corr = nb_corr(cache_act_i, place_act_j)\n",
    "                v_v_corr = nb_corr(place_act_i, place_act_j)\n",
    "                c_r_corr = nb_corr(cache_act_i, retrieval_act_j)\n",
    "\n",
    "                cache_cache_corr['Distance'].append(_distance)\n",
    "                cache_cache_corr['Correlation'].append(c_c_corr)\n",
    "\n",
    "                cache_visit_corr['Distance'].append(_distance)\n",
    "                cache_visit_corr['Correlation'].append(c_v_corr)\n",
    "\n",
    "                visit_visit_corr['Distance'].append(_distance)\n",
    "                visit_visit_corr['Correlation'].append(v_v_corr)\n",
    "\n",
    "                cache_retrieval_corr['Distance'].append(_distance)\n",
    "                cache_retrieval_corr['Correlation'].append(c_r_corr)\n",
    "\n",
    "    visit_visit_df = pd.DataFrame(visit_visit_corr)\n",
    "    cache_retrieve_df = pd.DataFrame(cache_retrieval_corr)\n",
    "    norm_constant = np.mean(\n",
    "       visit_visit_df[visit_visit_df['Distance']==0]['Correlation'])\n",
    "    visit_visit_df['Correlation'] = visit_visit_df['Correlation'].div(norm_constant)\n",
    "    cache_retrieve_df['Correlation'] = cache_retrieve_df['Correlation'].div(norm_constant)\n",
    "    \n",
    "    return visit_visit_df, cache_retrieve_df"
   ]
  },
  {
   "cell_type": "markdown",
   "metadata": {},
   "source": [
    "# Collect"
   ]
  },
  {
   "cell_type": "code",
   "execution_count": 7,
   "metadata": {},
   "outputs": [],
   "source": [
    "if load:\n",
    "    with open('pickles/fig3e_correlations.p', 'rb') as f:\n",
    "        results = pickle.load(f)\n",
    "    visit_visit_df = results['visit_visit_df']\n",
    "    cache_retrieve_df = results['cache_retrieve_df']\n",
    "else:\n",
    "    iters = 30\n",
    "    n_samples = 0\n",
    "    visit_visit_df = []\n",
    "    cache_retrieve_df = []\n",
    "    while n_samples < iters:\n",
    "        v, c = run()\n",
    "        if v is None:\n",
    "            print('Error. Re-running.')\n",
    "            continue\n",
    "        print(f'Iteration {n_samples} completed.')\n",
    "        visit_visit_df.append(v)\n",
    "        cache_retrieve_df.append(c)\n",
    "        n_samples += 1\n",
    "    visit_visit_df = pd.concat(visit_visit_df)\n",
    "    cache_retrieve_df = pd.concat(cache_retrieve_df)\n",
    "    with open('pickles/fig3e_correlations.p', 'wb') as f:\n",
    "        pickle.dump({\n",
    "            'visit_visit_df': visit_visit_df,\n",
    "            'cache_retrieve_df': cache_retrieve_df\n",
    "            }, f)"
   ]
  },
  {
   "cell_type": "markdown",
   "metadata": {},
   "source": [
    "# Plot"
   ]
  },
  {
   "cell_type": "code",
   "execution_count": 8,
   "metadata": {},
   "outputs": [
    {
     "data": {
      "image/png": "[encoded data removed]",
      "text/plain": [
       "<Figure size 145x135 with 1 Axes>"
      ]
     },
     "metadata": {},
     "output_type": "display_data"
    }
   ],
   "source": [
    "fig, ax = plt.subplots(figsize=(1.45, 1.35))\n",
    "for df, color in zip(\n",
    "    [visit_visit_df, cache_retrieve_df],\n",
    "    ['black', 'purple']):\n",
    "\n",
    "    dists = []\n",
    "    corrs = []\n",
    "    for dist in np.sort(np.unique(df['Distance'])):\n",
    "        _df = df[df['Distance']==dist]\n",
    "        corr = np.mean(_df['Correlation'])\n",
    "        dists.append(dist)\n",
    "        corrs.append(corr)\n",
    "    plt.scatter(\n",
    "        dists[::2], corrs[::2], color=color, s=10)\n",
    "    plt.plot(\n",
    "        dists[1:], corrs[1:],\n",
    "        color=color,\n",
    "        linewidth=1., linestyle='--')\n",
    "    \n",
    "plt.xticks([0, 8, 16, 24, 32, 40],\n",
    "           [0, 1, 2, 3, 4, 5],\n",
    "           fontsize=6)\n",
    "plt.xlabel('Distance (sites)', fontsize=6)\n",
    "plt.ylabel('Correlation', fontsize=6)\n",
    "plt.tight_layout()\n",
    "plt.yticks([0, 1, 2, 3], fontsize=6)\n",
    "plt.savefig('figures/fig3e.svg', dpi=300, transparent=True)\n",
    "plt.show()"
   ]
  },
  {
   "cell_type": "code",
   "execution_count": null,
   "metadata": {},
   "outputs": [],
   "source": []
  }
 ],
 "metadata": {
  "kernelspec": {
   "display_name": "Python [conda env:.conda-auxrl]",
   "language": "python",
   "name": "conda-env-.conda-auxrl-py"
  },
  "language_info": {
   "codemirror_mode": {
    "name": "ipython",
    "version": 3
   },
   "file_extension": ".py",
   "mimetype": "text/x-python",
   "name": "python",
   "nbconvert_exporter": "python",
   "pygments_lexer": "ipython3",
   "version": "3.8.13"
  }
 },
 "nbformat": 4,
 "nbformat_minor": 5
}
