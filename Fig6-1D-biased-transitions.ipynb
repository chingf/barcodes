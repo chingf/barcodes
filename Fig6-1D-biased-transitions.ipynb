{
 "cells": [
  {
   "cell_type": "code",
   "execution_count": 1,
   "metadata": {},
   "outputs": [],
   "source": [
    "import numpy as np\n",
    "import matplotlib.pyplot as plt\n",
    "import numpy as np\n",
    "import seaborn as sns\n",
    "import pandas as pd\n",
    "from Model import Model\n",
    "from PlaceInputs import PlaceInputs\n",
    "from utils import *\n",
    "import configs"
   ]
  },
  {
   "cell_type": "markdown",
   "metadata": {},
   "source": [
    "# Initialize RNN"
   ]
  },
  {
   "cell_type": "code",
   "execution_count": 2,
   "metadata": {},
   "outputs": [],
   "source": [
    "# Parameters\n",
    "N_inp = 5000\n",
    "N_bar = 5000\n",
    "num_states = 100"
   ]
  },
  {
   "cell_type": "code",
   "execution_count": 3,
   "metadata": {},
   "outputs": [],
   "source": [
    "place_inputs = PlaceInputs(N_inp, num_states).get_inputs()\n",
    "model = Model(\n",
    "    N_inp, N_bar, num_states,\n",
    "    #plasticity_bias = -0.45,\n",
    "    narrow_search_factor=0.5, wide_search_factor=1.5,\n",
    "    )\n",
    "unskewed_J = model.J_xx.copy()"
   ]
  },
  {
   "cell_type": "code",
   "execution_count": 66,
   "metadata": {},
   "outputs": [],
   "source": [
    "cache_states = [50]"
   ]
  },
  {
   "cell_type": "markdown",
   "metadata": {},
   "source": [
    "# Learning without skew"
   ]
  },
  {
   "cell_type": "code",
   "execution_count": 71,
   "metadata": {},
   "outputs": [],
   "source": [
    "identification_s = 0."
   ]
  },
  {
   "cell_type": "code",
   "execution_count": 72,
   "metadata": {
    "scrolled": false
   },
   "outputs": [
    {
     "name": "stdout",
     "output_type": "stream",
     "text": [
      "Now I just cached at location: 50\n"
     ]
    },
    {
     "data": {
      "image/png": "[encoded data removed]",
      "text/plain": [
       "<Figure size 576x144 with 3 Axes>"
      ]
     },
     "metadata": {
      "needs_background": "light"
     },
     "output_type": "display_data"
    }
   ],
   "source": [
    "model.reset()\n",
    "model.J_xx = unskewed_J.copy()\n",
    "    \n",
    "cache_identification = []\n",
    "narrow_recall = []\n",
    "wide_recall = []\n",
    "\n",
    "for c_idx, cache_state in enumerate(cache_states):\n",
    "    \n",
    "    print(\"Now I just cached at location:\", cache_state)\n",
    "    preacts, acts, _, acts_over_time = model.run_recurrent(place_inputs, n_zero_input=20)\n",
    "    model.update(place_inputs[cache_state], acts[cache_state], preacts[cache_state])\n",
    "\n",
    "    _, _, _cache_identification, _ = model.run_recall(identification_s, place_inputs)\n",
    "    cache_identification.append(_cache_identification.copy())\n",
    "    \n",
    "    _, _, _narrow_recall, _ = model.run_recall(identification_s, place_inputs)\n",
    "    narrow_recall.append(_narrow_recall.copy())\n",
    "    \n",
    "    _, _, _wide_recall, _ = model.run_wide_recall(place_inputs)\n",
    "    wide_recall.append(_wide_recall.copy())\n",
    "\n",
    "    recall_plots(_cache_identification, _narrow_recall, _wide_recall, cache_states[:c_idx+1])"
   ]
  },
  {
   "cell_type": "markdown",
   "metadata": {},
   "source": [
    "# Add predictive skew to RNN weights"
   ]
  },
  {
   "cell_type": "code",
   "execution_count": 87,
   "metadata": {},
   "outputs": [],
   "source": [
    "model.reset()\n",
    "model.J_xx = unskewed_J.copy()"
   ]
  },
  {
   "cell_type": "code",
   "execution_count": null,
   "metadata": {},
   "outputs": [],
   "source": [
    "identity = np.eye(model.N_bar)\n",
    "total_delta = np.zeros((model.N_bar, model.N_bar))\n",
    "n_shifts = 1000\n",
    "offset = 50\n",
    "gamma = 0.98\n",
    "for s in range(1, n_shifts):\n",
    "    shifted = np.roll(identity, shift=-(s+offset), axis=0)\n",
    "    delta = (gamma**s)*shifted*0.1 #0.04\n",
    "    total_delta += delta.copy()\n",
    "model.J_xx[:,int(0.2*5000):int(0.2*5000)] += total_delta[:, int(0.3*5000):int(0.5*5000)]"
   ]
  },
  {
   "cell_type": "markdown",
   "metadata": {},
   "source": [
    "# Learning with skew"
   ]
  },
  {
   "cell_type": "code",
   "execution_count": null,
   "metadata": {
    "scrolled": false
   },
   "outputs": [],
   "source": [
    "cache_identification = []\n",
    "narrow_recall = []\n",
    "wide_recall = []\n",
    "\n",
    "for c_idx, cache_state in enumerate(cache_states):\n",
    "    \n",
    "    print(\"Now I just cached at location:\", cache_state)\n",
    "    preacts, acts, _, acts_over_time = model.run_recurrent(place_inputs, n_zero_input=20)\n",
    "    model.update(place_inputs[cache_state], acts[cache_state], preacts[cache_state])\n",
    "\n",
    "    _, _, _cache_identification, _ = model.run_recall(identification_s, place_inputs)\n",
    "    cache_identification.append(_cache_identification.copy())\n",
    "    \n",
    "    _, _, _narrow_recall, _ = model.run_recall(identification_s, place_inputs)\n",
    "    narrow_recall.append(_narrow_recall.copy())\n",
    "    \n",
    "    _, _, _wide_recall, _ = model.run_wide_recall(place_inputs)\n",
    "    wide_recall.append(_wide_recall.copy())\n",
    "\n",
    "    recall_plots(_cache_identification, _narrow_recall, _wide_recall, cache_states[:c_idx+1])"
   ]
  },
  {
   "cell_type": "code",
   "execution_count": null,
   "metadata": {},
   "outputs": [],
   "source": []
  },
  {
   "cell_type": "code",
   "execution_count": null,
   "metadata": {},
   "outputs": [],
   "source": []
  }
 ],
 "metadata": {
  "kernelspec": {
   "display_name": "Python 3",
   "language": "python",
   "name": "python3"
  },
  "language_info": {
   "codemirror_mode": {
    "name": "ipython",
    "version": 3
   },
   "file_extension": ".py",
   "mimetype": "text/x-python",
   "name": "python",
   "nbconvert_exporter": "python",
   "pygments_lexer": "ipython3",
   "version": "3.7.3"
  }
 },
 "nbformat": 4,
 "nbformat_minor": 5
}
