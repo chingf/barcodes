{
 "cells": [
  {
   "cell_type": "code",
   "execution_count": 1,
   "metadata": {},
   "outputs": [],
   "source": [
    "import numpy as np\n",
    "import matplotlib.pyplot as plt\n",
    "import numpy as np\n",
    "from scipy.stats import poisson, nbinom\n",
    "import seaborn as sns\n",
    "import pandas as pd\n",
    "\n",
    "from Model import Model\n",
    "from PlaceInputs import PlaceInputs\n",
    "from utils import *\n",
    "import configs"
   ]
  },
  {
   "cell_type": "markdown",
   "metadata": {},
   "source": [
    "# Parameters and Initialization"
   ]
  },
  {
   "cell_type": "code",
   "execution_count": 2,
   "metadata": {},
   "outputs": [],
   "source": [
    "# Parameters\n",
    "N_inp = 5000\n",
    "N_bar = 5000\n",
    "num_states = 100\n",
    "steps = 100"
   ]
  },
  {
   "cell_type": "code",
   "execution_count": 3,
   "metadata": {},
   "outputs": [],
   "source": [
    "np.random.seed(0)"
   ]
  },
  {
   "cell_type": "code",
   "execution_count": 4,
   "metadata": {},
   "outputs": [],
   "source": [
    "place_inputs = PlaceInputs(N_inp, num_states).get_inputs()\n",
    "model = Model(N_inp, N_bar, num_states, steps=steps)"
   ]
  },
  {
   "cell_type": "code",
   "execution_count": 5,
   "metadata": {},
   "outputs": [],
   "source": [
    "cache_states = [0, 32, 64]"
   ]
  },
  {
   "cell_type": "markdown",
   "metadata": {},
   "source": [
    "# Run Task (with learning)"
   ]
  },
  {
   "cell_type": "code",
   "execution_count": 6,
   "metadata": {},
   "outputs": [
    {
     "name": "stdout",
     "output_type": "stream",
     "text": [
      "Now I just cached at location: 0\n",
      "Now I just cached at location: 32\n",
      "Now I just cached at location: 64\n"
     ]
    }
   ],
   "source": [
    "model.reset()\n",
    "cache_acts = []\n",
    "cache_acts_over_time = []\n",
    "\n",
    "for cache_state in cache_states:\n",
    "    print(\"Now I just cached at location:\", cache_state)\n",
    "    preacts, acts, _, acts_over_time = model.run_recurrent(place_inputs)\n",
    "    model.update(place_inputs[cache_state], acts[cache_state], preacts[cache_state])\n",
    "    cache_acts.append(acts.copy())\n",
    "    cache_acts_over_time.append(acts_over_time.copy())"
   ]
  },
  {
   "cell_type": "code",
   "execution_count": 7,
   "metadata": {},
   "outputs": [],
   "source": [
    "_, _, output, retrieval_acts_over_time = model.run_recall(0., place_inputs)"
   ]
  },
  {
   "cell_type": "code",
   "execution_count": 8,
   "metadata": {},
   "outputs": [],
   "source": [
    "_, place_acts, _, _ = model.run_nonrecurrent(place_inputs)\n",
    "place_mean = np.mean(place_acts, axis=0).flatten()\n",
    "place_std = np.std(place_acts, axis=0).flatten()"
   ]
  },
  {
   "cell_type": "markdown",
   "metadata": {},
   "source": [
    "# Define cache and retrieval activity"
   ]
  },
  {
   "cell_type": "code",
   "execution_count": 9,
   "metadata": {},
   "outputs": [],
   "source": [
    "avg_cache_acts = []\n",
    "for i in range(len(cache_states)):\n",
    "    location = cache_states[i]\n",
    "    vec = cache_acts_over_time[i][-5:, location, :].mean(axis=0)\n",
    "    avg_cache_acts.append(vec)\n",
    "avg_cache_acts = np.array(avg_cache_acts)"
   ]
  },
  {
   "cell_type": "code",
   "execution_count": 10,
   "metadata": {},
   "outputs": [],
   "source": [
    "avg_retrieval_acts = []\n",
    "for i in range(len(cache_states)):\n",
    "    location = cache_states[i]\n",
    "    vec = retrieval_acts_over_time[-5:, location, :].mean(axis=0)\n",
    "    avg_retrieval_acts.append(vec)\n",
    "avg_retrieval_acts = np.array(avg_retrieval_acts)"
   ]
  },
  {
   "cell_type": "markdown",
   "metadata": {},
   "source": [
    "# Individual cell plots"
   ]
  },
  {
   "cell_type": "code",
   "execution_count": 25,
   "metadata": {},
   "outputs": [
    {
     "name": "stdout",
     "output_type": "stream",
     "text": [
      "3.8757044284369635\n",
      "11.49051712433454\n"
     ]
    },
    {
     "data": {
      "image/png": "[encoded data removed]",
      "text/plain": [
       "<Figure size 90x61.2 with 3 Axes>"
      ]
     },
     "metadata": {},
     "output_type": "display_data"
    },
    {
     "name": "stdout",
     "output_type": "stream",
     "text": [
      "3.526103656396468\n",
      "14.144365817774991\n"
     ]
    },
    {
     "data": {
      "image/png": "[encoded data removed]",
      "text/plain": [
       "<Figure size 90x61.2 with 3 Axes>"
      ]
     },
     "metadata": {},
     "output_type": "display_data"
    },
    {
     "name": "stdout",
     "output_type": "stream",
     "text": [
      "4.3950290583255285\n",
      "14.678725264205195\n"
     ]
    },
    {
     "data": {
      "image/png": "[encoded data removed]",
      "text/plain": [
       "<Figure size 90x61.2 with 3 Axes>"
      ]
     },
     "metadata": {},
     "output_type": "display_data"
    }
   ],
   "source": [
    "np.random.seed(2)\n",
    "\n",
    "for i in range(3):\n",
    "    fig, axs = plt.subplots(1, 3, figsize=(1.25, 0.85))\n",
    "    sampled_idxs = np.random.choice(N_bar, 25, replace=False)\n",
    "    sampled_idxs = np.sort(sampled_idxs)\n",
    "    axs[0].imshow(\n",
    "        avg_cache_acts[i][sampled_idxs].reshape(-1,1),\n",
    "        aspect='auto', cmap='binary')\n",
    "    axs[1].imshow(\n",
    "        avg_retrieval_acts[i][sampled_idxs].reshape(-1,1),\n",
    "        aspect='auto', cmap='binary')\n",
    "    axs[2].imshow(\n",
    "        place_acts[cache_states[i]].reshape(-1,1),\n",
    "        aspect='auto', cmap='binary')\n",
    "    print(avg_cache_acts[i].max())\n",
    "    print(avg_retrieval_acts[i].max())\n",
    "    for ax in axs:\n",
    "        ax.set_xticks([])\n",
    "        ax.set_yticks([])\n",
    "        ax.spines['top'].set_visible(True)\n",
    "        ax.spines['right'].set_visible(True)\n",
    "    plt.subplots_adjust(wspace=-3, hspace=0)\n",
    "    plt.tight_layout()\n",
    "    plt.savefig(f'figures/fig3d_{i}.svg', dpi=300, transparent=True)\n",
    "    plt.show()"
   ]
  },
  {
   "cell_type": "code",
   "execution_count": null,
   "metadata": {},
   "outputs": [],
   "source": []
  }
 ],
 "metadata": {
  "kernelspec": {
   "display_name": "Python 3",
   "language": "python",
   "name": "python3"
  },
  "language_info": {
   "codemirror_mode": {
    "name": "ipython",
    "version": 3
   },
   "file_extension": ".py",
   "mimetype": "text/x-python",
   "name": "python",
   "nbconvert_exporter": "python",
   "pygments_lexer": "ipython3",
   "version": "3.7.3"
  }
 },
 "nbformat": 4,
 "nbformat_minor": 5
}
