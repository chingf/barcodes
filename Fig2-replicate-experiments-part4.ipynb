{
 "cells": [
  {
   "cell_type": "code",
   "execution_count": 1,
   "metadata": {},
   "outputs": [],
   "source": [
    "import numpy as np\n",
    "import matplotlib.pyplot as plt\n",
    "import numpy as np\n",
    "from scipy.stats import poisson, nbinom\n",
    "import seaborn as sns\n",
    "import pandas as pd\n",
    "\n",
    "from Model_less_weird import Model\n",
    "from PlaceInputs import PlaceInputs\n",
    "from utils import *\n",
    "import configs"
   ]
  },
  {
   "cell_type": "markdown",
   "metadata": {},
   "source": [
    "# Parameters and Initialization"
   ]
  },
  {
   "cell_type": "code",
   "execution_count": 2,
   "metadata": {},
   "outputs": [],
   "source": [
    "# Parameters\n",
    "N_inp = 20000\n",
    "N_bar = 5000\n",
    "num_states = 100\n",
    "steps = 100"
   ]
  },
  {
   "cell_type": "code",
   "execution_count": 3,
   "metadata": {},
   "outputs": [],
   "source": [
    "place_inputs = PlaceInputs(N_inp, num_states).get_inputs()\n",
    "model = Model(\n",
    "    N_inp, N_bar, num_states,\n",
    "    steps=steps\n",
    "    )"
   ]
  },
  {
   "cell_type": "code",
   "execution_count": 4,
   "metadata": {},
   "outputs": [],
   "source": [
    "cache_states = [0, 33, 66]"
   ]
  },
  {
   "cell_type": "markdown",
   "metadata": {},
   "source": [
    "# Run Task (with learning)"
   ]
  },
  {
   "cell_type": "code",
   "execution_count": 5,
   "metadata": {},
   "outputs": [
    {
     "name": "stdout",
     "output_type": "stream",
     "text": [
      "Now I just cached at location: 0\n",
      "Now I just cached at location: 33\n",
      "Now I just cached at location: 66\n"
     ]
    }
   ],
   "source": [
    "model.reset()\n",
    "cache_acts = []\n",
    "cache_acts_over_time = []\n",
    "retrieval_acts_over_time = []\n",
    "\n",
    "for cache_state in cache_states:\n",
    "    print(\"Now I just cached at location:\", cache_state)\n",
    "    preacts, acts, _, acts_over_time = model.run_recurrent(place_inputs, n_zero_input=20)\n",
    "    model.update(place_inputs[cache_state], acts[cache_state], preacts[cache_state])\n",
    "    cache_acts.append(acts.copy())\n",
    "    cache_acts_over_time.append(acts_over_time.copy())"
   ]
  },
  {
   "cell_type": "code",
   "execution_count": 6,
   "metadata": {},
   "outputs": [],
   "source": [
    "_, place_acts, _, _ = model.run_nonrecurrent(place_inputs)\n",
    "place_mean = np.mean(place_acts, axis=0).flatten()\n",
    "place_std = np.std(place_acts, axis=0).flatten()"
   ]
  },
  {
   "cell_type": "markdown",
   "metadata": {},
   "source": [
    "# Define cache activity as a mean over some time window"
   ]
  },
  {
   "cell_type": "code",
   "execution_count": 7,
   "metadata": {},
   "outputs": [],
   "source": [
    "start_t = steps-25 # Start of time window"
   ]
  },
  {
   "cell_type": "code",
   "execution_count": 8,
   "metadata": {},
   "outputs": [],
   "source": [
    "avg_cache_acts = []\n",
    "for i in range(len(cache_states)):\n",
    "    location = cache_states[i]\n",
    "    vec = cache_acts_over_time[i][start_t:steps, location, :].mean(axis=0)\n",
    "    avg_cache_acts.append(vec)\n",
    "avg_cache_acts = np.array(avg_cache_acts)"
   ]
  },
  {
   "cell_type": "code",
   "execution_count": 9,
   "metadata": {},
   "outputs": [],
   "source": [
    "cache_mean = avg_cache_acts.mean(axis=0)"
   ]
  },
  {
   "cell_type": "markdown",
   "metadata": {},
   "source": [
    "# Define barcodes"
   ]
  },
  {
   "cell_type": "code",
   "execution_count": 10,
   "metadata": {},
   "outputs": [],
   "source": [
    "barcodes = []\n",
    "for i in range(len(cache_states)):\n",
    "    location = cache_states[i]\n",
    "    \n",
    "    # Cache activations\n",
    "    _cache_act = avg_cache_acts[i].copy()\n",
    "    _cache_act -= cache_mean\n",
    "    \n",
    "    # Place activations\n",
    "    _place_act = place_acts[location].copy()\n",
    "    _place_act -= place_mean\n",
    "    _place_act /= np.linalg.norm(_place_act)\n",
    "    \n",
    "    # Define barcode\n",
    "    projection = np.dot(_cache_act, _place_act) * _place_act\n",
    "    barcode = _cache_act - projection\n",
    "    barcodes.append(barcode)\n",
    "barcodes = np.array(barcodes)"
   ]
  },
  {
   "cell_type": "code",
   "execution_count": 11,
   "metadata": {},
   "outputs": [],
   "source": [
    "barcodes /= np.linalg.norm(barcodes, axis=1)[:,None]"
   ]
  },
  {
   "cell_type": "markdown",
   "metadata": {},
   "source": [
    "# Run recall at some search strength"
   ]
  },
  {
   "cell_type": "code",
   "execution_count": 12,
   "metadata": {},
   "outputs": [],
   "source": [
    "model.steps = 50"
   ]
  },
  {
   "cell_type": "code",
   "execution_count": 20,
   "metadata": {},
   "outputs": [],
   "source": [
    "_, recall_acts, recall_reconstruct, recall_acts_over_time = model.run_recall(\n",
    "    1., place_inputs, n_zero_input=0)"
   ]
  },
  {
   "cell_type": "code",
   "execution_count": 21,
   "metadata": {},
   "outputs": [
    {
     "data": {
      "image/png": "[encoded data removed]",
      "text/plain": [
       "<Figure size 432x288 with 1 Axes>"
      ]
     },
     "metadata": {
      "needs_background": "light"
     },
     "output_type": "display_data"
    }
   ],
   "source": [
    "plt.figure()\n",
    "plt.imshow(recall_reconstruct, aspect='auto')\n",
    "plt.show()"
   ]
  },
  {
   "cell_type": "code",
   "execution_count": 28,
   "metadata": {},
   "outputs": [],
   "source": [
    "locations = []\n",
    "curr_place_proj_in_time = []\n",
    "target_place_proj_in_time = []\n",
    "barcode_proj_in_time = []\n",
    "\n",
    "for i in range(len(cache_states)):\n",
    "    location = cache_states[i] + 10\n",
    "    _recall_act_over_time = recall_acts_over_time[:,location,:]\n",
    "    \n",
    "    # Curr location activity\n",
    "    _curr_place_act = place_acts[location].copy()\n",
    "    _curr_place_act -= place_mean\n",
    "    _curr_place_act /= np.linalg.norm(_curr_place_act)\n",
    "    \n",
    "    # Target location activity\n",
    "    _target_place_act = place_acts[cache_states[i]].copy()\n",
    "    _target_place_act -= place_mean\n",
    "    _target_place_act /= np.linalg.norm(_target_place_act)\n",
    "    \n",
    "    # Target cache activations\n",
    "    _cache_act_over_time = cache_acts_over_time[i]\n",
    "    _cache_act = avg_cache_acts[i].copy()\n",
    "    _cache_act -= cache_mean\n",
    "    \n",
    "    # Over time\n",
    "    _curr_place_proj_in_time = []\n",
    "    _target_place_proj_in_time = []\n",
    "    _barcode_proj_in_time = []\n",
    "    for t in range(_recall_act_over_time.shape[0]):\n",
    "        _r = _recall_act_over_time[t] # (n_units,)\n",
    "        _r = _r / np.linalg.norm(_r)\n",
    "        _curr_place_proj_in_time.append(np.dot(_r, _curr_place_act))\n",
    "        _target_place_proj_in_time.append(np.dot(_r, _target_place_act))\n",
    "        _barcode_proj_in_time.append(np.dot(_r, barcodes[i]))\n",
    "    curr_place_proj_in_time.append(_curr_place_proj_in_time)\n",
    "    target_place_proj_in_time.append(_target_place_proj_in_time)\n",
    "    barcode_proj_in_time.append(_barcode_proj_in_time)"
   ]
  },
  {
   "cell_type": "code",
   "execution_count": 29,
   "metadata": {},
   "outputs": [
    {
     "data": {
      "image/png": "[encoded data removed]",
      "text/plain": [
       "<Figure size 288x216 with 1 Axes>"
      ]
     },
     "metadata": {
      "needs_background": "light"
     },
     "output_type": "display_data"
    }
   ],
   "source": [
    "# Chettih et al Figure 7\n",
    "plt.figure(figsize=(4,3))\n",
    "for cpp in curr_place_proj_in_time:\n",
    "    plt.plot(cpp[1:], alpha=0.5, color='gray')\n",
    "for tpp in target_place_proj_in_time:\n",
    "    plt.plot(tpp[1:], alpha=0.5, color='red')\n",
    "# for bp in barcode_proj_in_time:\n",
    "#     plt.plot(bp, alpha=0.5, color='orange')\n",
    "plt.xlabel('Time')\n",
    "plt.ylabel('Projection Norm')\n",
    "plt.tight_layout()\n",
    "plt.savefig('temp_prediction.png', dpi=300)\n",
    "plt.show()"
   ]
  },
  {
   "cell_type": "code",
   "execution_count": 30,
   "metadata": {},
   "outputs": [
    {
     "data": {
      "image/png": "[encoded data removed]",
      "text/plain": [
       "<Figure size 432x288 with 1 Axes>"
      ]
     },
     "metadata": {
      "needs_background": "light"
     },
     "output_type": "display_data"
    }
   ],
   "source": [
    "plt.figure()\n",
    "plt.imshow(_recall_act_over_time, aspect='auto')\n",
    "plt.show()"
   ]
  },
  {
   "cell_type": "code",
   "execution_count": null,
   "metadata": {},
   "outputs": [],
   "source": []
  }
 ],
 "metadata": {
  "kernelspec": {
   "display_name": "Python 3",
   "language": "python",
   "name": "python3"
  },
  "language_info": {
   "codemirror_mode": {
    "name": "ipython",
    "version": 3
   },
   "file_extension": ".py",
   "mimetype": "text/x-python",
   "name": "python",
   "nbconvert_exporter": "python",
   "pygments_lexer": "ipython3",
   "version": "3.7.3"
  }
 },
 "nbformat": 4,
 "nbformat_minor": 5
}
