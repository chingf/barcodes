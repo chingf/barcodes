{
 "cells": [
  {
   "cell_type": "code",
   "execution_count": 18,
   "metadata": {},
   "outputs": [],
   "source": [
    "import numpy as np\n",
    "import matplotlib.pyplot as plt\n",
    "import pickle\n",
    "import pandas as pd\n",
    "import seaborn as sns\n",
    "import os\n",
    "import configs\n",
    "from math import floor, ceil\n",
    "\n",
    "from Model import Model\n",
    "from PlaceInputs import PlaceInputs\n",
    "from utils import *\n",
    "from utils_summary_statistics import *\n",
    "import configs"
   ]
  },
  {
   "cell_type": "markdown",
   "metadata": {},
   "source": [
    "# Load data"
   ]
  },
  {
   "cell_type": "code",
   "execution_count": 38,
   "metadata": {},
   "outputs": [],
   "source": [
    "stats = []\n",
    "labels = []"
   ]
  },
  {
   "cell_type": "code",
   "execution_count": 39,
   "metadata": {},
   "outputs": [],
   "source": [
    "# Load default model results\n",
    "with open('pickles/resolution_default.p', 'rb') as f:\n",
    "    default_stats = pickle.load(f)\n",
    "stats.append(default_stats)\n",
    "labels.append('Default')"
   ]
  },
  {
   "cell_type": "code",
   "execution_count": 40,
   "metadata": {},
   "outputs": [],
   "source": [
    "# Load barcode ablation results\n",
    "with open('pickles/resolution_barcode_ablation.p', 'rb') as f:\n",
    "    bar_ablate_stats = pickle.load(f)\n",
    "stats.append(bar_ablate_stats)\n",
    "labels.append('Barcode Ablation')"
   ]
  },
  {
   "cell_type": "code",
   "execution_count": 41,
   "metadata": {},
   "outputs": [],
   "source": [
    "# Load place field ablation results\n",
    "with open('pickles/resolution_place_field_ablation.p', 'rb') as f:\n",
    "    place_ablate_stats = pickle.load(f)\n",
    "stats.append(place_ablate_stats)\n",
    "labels.append('Place Field Ablation')"
   ]
  },
  {
   "cell_type": "markdown",
   "metadata": {},
   "source": [
    "# Identification: midpoint accuracy plots"
   ]
  },
  {
   "cell_type": "code",
   "execution_count": 45,
   "metadata": {},
   "outputs": [
    {
     "data": {
      "image/png": "[encoded data removed]",
      "text/plain": [
       "<Figure size 216x144 with 1 Axes>"
      ]
     },
     "metadata": {
      "needs_background": "light"
     },
     "output_type": "display_data"
    }
   ],
   "source": [
    "fig, ax = plt.subplots(figsize=(3,2))\n",
    "linestyles = ['-', 'dotted', '--']\n",
    "for idx in range(len(stats)):\n",
    "    stat = stats[idx]\n",
    "    label = labels[idx]\n",
    "    linestyle = linestyles[idx]\n",
    "    df = pd.DataFrame(stat['identification_2'])\n",
    "    df = df[df['search strength']==0.]\n",
    "    df['binarized'] = df['noncache val'] < 0.5\n",
    "    color = 'black' if idx==0 else 'grey'\n",
    "    sns.lineplot(\n",
    "        x='site spacing', y='binarized',\n",
    "        color=color, data=df\n",
    "        )\n",
    "    ax.lines[idx].set_linestyle(linestyle)\n",
    "plt.xlabel('Distance from Cache 1 and 2 (sites)')\n",
    "plt.ylabel('P(correct)')\n",
    "plt.xticks([10, 20, 30], [0.5, 1, 1.5])\n",
    "plt.tight_layout()\n",
    "plt.savefig('figures/fig5c.png', dpi=300)\n",
    "plt.show()"
   ]
  },
  {
   "cell_type": "markdown",
   "metadata": {},
   "source": [
    "# Reconstruction: P(found closest attractor | distance to closest attractor)"
   ]
  },
  {
   "cell_type": "code",
   "execution_count": 65,
   "metadata": {},
   "outputs": [
    {
     "data": {
      "image/png": "[encoded data removed]",
      "text/plain": [
       "<Figure size 216x144 with 1 Axes>"
      ]
     },
     "metadata": {
      "needs_background": "light"
     },
     "output_type": "display_data"
    }
   ],
   "source": [
    "fig, ax = plt.subplots(figsize=(3,2))\n",
    "linestyles = ['-', 'dotted', '--']\n",
    "for idx in range(len(stats)):\n",
    "    stat = stats[idx]\n",
    "    label = labels[idx]\n",
    "    linestyle = linestyles[idx]\n",
    "    try:\n",
    "        stat['reconstruct_1'].pop('is_cache_conditioned_on_valid')\n",
    "    except:\n",
    "        pass\n",
    "    df = pd.DataFrame(stat['reconstruct_1'])\n",
    "    df = df[df['search strength']==1.]\n",
    "    df = df[df['site spacing']>=15]\n",
    "    df['val'] = df['is_closest'] & df['high_readout']\n",
    "    color = 'black' if idx==0 else 'grey'\n",
    "    sns.lineplot(\n",
    "        x='distance from closest cache', y='val',\n",
    "        ax=ax, data=df,\n",
    "        color=color,\n",
    "        )\n",
    "    ax.lines[idx].set_linestyle(linestyle)\n",
    "plt.ylabel('P(place field recalled)')\n",
    "plt.xlabel('Search Radius (sites)')\n",
    "plt.xticks([0, 10, 20,], [0, 1, 2,])\n",
    "plt.tight_layout()\n",
    "plt.savefig('figures/fig5d.png', dpi=300)\n",
    "plt.show()"
   ]
  },
  {
   "cell_type": "code",
   "execution_count": null,
   "metadata": {},
   "outputs": [],
   "source": []
  }
 ],
 "metadata": {
  "kernelspec": {
   "display_name": "Python 3",
   "language": "python",
   "name": "python3"
  },
  "language_info": {
   "codemirror_mode": {
    "name": "ipython",
    "version": 3
   },
   "file_extension": ".py",
   "mimetype": "text/x-python",
   "name": "python",
   "nbconvert_exporter": "python",
   "pygments_lexer": "ipython3",
   "version": "3.7.3"
  }
 },
 "nbformat": 4,
 "nbformat_minor": 2
}
