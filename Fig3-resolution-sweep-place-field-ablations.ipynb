{
 "cells": [
  {
   "cell_type": "code",
   "execution_count": 1,
   "metadata": {},
   "outputs": [],
   "source": [
    "import numpy as np\n",
    "import matplotlib.pyplot as plt\n",
    "import pickle\n",
    "import pandas as pd\n",
    "import seaborn as sns\n",
    "import os\n",
    "import configs\n",
    "from math import floor, ceil\n",
    "\n",
    "from Model import Model\n",
    "from PlaceInputs import PlaceInputs\n",
    "from utils import *\n",
    "from utils_summary_statistics import *\n",
    "import configs"
   ]
  },
  {
   "cell_type": "markdown",
   "metadata": {},
   "source": [
    "# Choose experiment to load"
   ]
  },
  {
   "cell_type": "code",
   "execution_count": 2,
   "metadata": {},
   "outputs": [],
   "source": [
    "# Specify what you're looking at\n",
    "exp = 'narrow_search_factor'\n",
    "model_type = 'place_field_ablation'"
   ]
  },
  {
   "cell_type": "code",
   "execution_count": 3,
   "metadata": {},
   "outputs": [],
   "source": [
    "if os.environ['USER'] == 'chingfang':\n",
    "    engram_dir = '/Volumes/aronov-locker/Ching/barcodes/' # Local Path\n",
    "elif 'SLURM_JOBID' in os.environ.keys():\n",
    "    engram_dir = '/mnt/smb/locker/aronov-locker/Ching/barcodes/' # Axon Path\n",
    "else:\n",
    "    engram_dir = '/home/cf2794/engram/Ching/barcodes/' # Cortex Path\n",
    "exp_dir = os.path.join(engram_dir, 'resolution', exp, model_type)"
   ]
  },
  {
   "cell_type": "code",
   "execution_count": 4,
   "metadata": {},
   "outputs": [],
   "source": [
    "N_inp = 5000\n",
    "N_bar = 5000\n",
    "num_states = 100\n",
    "inputs = PlaceInputs(N_inp, num_states).get_inputs()"
   ]
  },
  {
   "cell_type": "code",
   "execution_count": 5,
   "metadata": {},
   "outputs": [],
   "source": [
    "truncate = False"
   ]
  },
  {
   "cell_type": "code",
   "execution_count": 6,
   "metadata": {},
   "outputs": [
    {
     "name": "stderr",
     "output_type": "stream",
     "text": [
      "/share/ctn/users/cf2794/Code/barcodes/utils_summary_statistics.py:132: RuntimeWarning: invalid value encountered in greater\n",
      "  valid = np.logical_and(readout>0.5, np.isin(peak_locs, cache_states))\n"
     ]
    }
   ],
   "source": [
    "summary_stats = {\n",
    "    'identification_1': None, 'identification_2': None,\n",
    "    'identification_3': None, 'identification_4': None,\n",
    "    'reconstruct_1': None, 'reconstruct_2': None,\n",
    "    'reconstruct_3': None, 'activations_1': None, 'activations_2': None\n",
    "    }\n",
    "\n",
    "for param in os.listdir(exp_dir):\n",
    "    if param == '.DS_Store': continue\n",
    "    dirpath = os.path.join(exp_dir, param)\n",
    "    for site_spacing in os.listdir(dirpath):\n",
    "        if not site_spacing.startswith('res'): continue    \n",
    "        dirpath = os.path.join(exp_dir, param, site_spacing)\n",
    "        for seed in os.listdir(dirpath):\n",
    "            if not seed.startswith('seed'): continue\n",
    "            dirpath = os.path.join(exp_dir, param, site_spacing, seed)\n",
    "            _param = round(float(param), 1)\n",
    "            _seed = int(seed[4:])\n",
    "            _site_spacing = int(site_spacing[3:])\n",
    "            if truncate and (_seed > 5 or _param > 0.6): continue\n",
    "            cache_states = [0, _site_spacing, 66]\n",
    "        \n",
    "            try:\n",
    "                with open(os.path.join(dirpath, 'results.p'), 'rb') as f:\n",
    "                    _results = pickle.load(f)\n",
    "            except:\n",
    "                continue\n",
    "                \n",
    "            readout = np.linalg.norm(_results['narrow_reconstruct'], axis=1)\n",
    "            readout /= readout.max()\n",
    "            reconstruct = _results['narrow_reconstruct']\n",
    "            activations = _results['narrow_acts'].copy()\n",
    "            _summary_stats = get_resolution_summary_statistics(\n",
    "                readout, reconstruct, cache_states, activations,\n",
    "                inputs, _site_spacing, search_strength=_param)\n",
    "            for key, _dict in _summary_stats.items():\n",
    "                n_samples = len(_dict[list(_dict.keys())[0]])\n",
    "                if summary_stats[key] is None:\n",
    "                    summary_stats[key] = _dict\n",
    "                else:\n",
    "                    for nested_key in _dict.keys():\n",
    "                        summary_stats[key][nested_key].extend(_dict[nested_key])"
   ]
  },
  {
   "cell_type": "code",
   "execution_count": null,
   "metadata": {},
   "outputs": [],
   "source": []
  }
 ],
 "metadata": {
  "kernelspec": {
   "display_name": "Python 3",
   "language": "python",
   "name": "python3"
  },
  "language_info": {
   "codemirror_mode": {
    "name": "ipython",
    "version": 3
   },
   "file_extension": ".py",
   "mimetype": "text/x-python",
   "name": "python",
   "nbconvert_exporter": "python",
   "pygments_lexer": "ipython3",
   "version": "3.7.3"
  }
 },
 "nbformat": 4,
 "nbformat_minor": 2
}
